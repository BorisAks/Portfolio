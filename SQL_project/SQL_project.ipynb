{
 "cells": [
  {
   "cell_type": "markdown",
   "metadata": {},
   "source": [
    "---"
   ]
  },
  {
   "cell_type": "code",
   "execution_count": 1,
   "metadata": {},
   "outputs": [],
   "source": [
    "# !pip install psycopg2-binary\n",
    "# import libraries\n",
    "import pandas as pd\n",
    "from sqlalchemy import create_engine\n",
    "\n",
    "\n",
    "db_config = {'user': 'praktikum_student',         # user name\n",
    "             'pwd': 'Sdf4$2;d-d30pp', # password\n",
    "             'host': 'rc1b-wcoijxj3yxfsf3fs.mdb.yandexcloud.net',\n",
    "             'port': 6432,              # connection port\n",
    "             'db': 'data-analyst-final-project-db'}          # the name of the data base\n",
    "\n",
    "connection_string = 'postgresql://{}:{}@{}:{}/{}'.format(db_config['user'],\n",
    "                                                                     db_config['pwd'],\n",
    "                                                                       db_config['host'],\n",
    "                                                                       db_config['port'],\n",
    "                                                                       db_config['db'])\n",
    "\n",
    "engine = create_engine(connection_string, connect_args={'sslmode':'require'})"
   ]
  },
  {
   "cell_type": "markdown",
   "metadata": {},
   "source": [
    "##### You've been given a database of one of the services competing in this market. It contains data on books, publishers, authors, and customer ratings and reviews of books. This information will be used to generate a value proposition for a new product. "
   ]
  },
  {
   "cell_type": "code",
   "execution_count": 2,
   "metadata": {},
   "outputs": [],
   "source": [
    "query = ''' SELECT * FROM books '''"
   ]
  },
  {
   "cell_type": "code",
   "execution_count": 3,
   "metadata": {},
   "outputs": [
    {
     "data": {
      "text/html": [
       "<div>\n",
       "<style scoped>\n",
       "    .dataframe tbody tr th:only-of-type {\n",
       "        vertical-align: middle;\n",
       "    }\n",
       "\n",
       "    .dataframe tbody tr th {\n",
       "        vertical-align: top;\n",
       "    }\n",
       "\n",
       "    .dataframe thead th {\n",
       "        text-align: right;\n",
       "    }\n",
       "</style>\n",
       "<table border=\"1\" class=\"dataframe\">\n",
       "  <thead>\n",
       "    <tr style=\"text-align: right;\">\n",
       "      <th></th>\n",
       "      <th>book_id</th>\n",
       "      <th>author_id</th>\n",
       "      <th>title</th>\n",
       "      <th>num_pages</th>\n",
       "      <th>publication_date</th>\n",
       "      <th>publisher_id</th>\n",
       "    </tr>\n",
       "  </thead>\n",
       "  <tbody>\n",
       "    <tr>\n",
       "      <td>411</td>\n",
       "      <td>412</td>\n",
       "      <td>390</td>\n",
       "      <td>Lucy Sullivan Is Getting Married</td>\n",
       "      <td>640</td>\n",
       "      <td>2007-01-23</td>\n",
       "      <td>333</td>\n",
       "    </tr>\n",
       "    <tr>\n",
       "      <td>665</td>\n",
       "      <td>666</td>\n",
       "      <td>530</td>\n",
       "      <td>The Burden of Proof (Kindle County Legal Thril...</td>\n",
       "      <td>608</td>\n",
       "      <td>2000-12-01</td>\n",
       "      <td>116</td>\n",
       "    </tr>\n",
       "    <tr>\n",
       "      <td>124</td>\n",
       "      <td>125</td>\n",
       "      <td>9</td>\n",
       "      <td>Brave New World / Brave New World Revisited</td>\n",
       "      <td>340</td>\n",
       "      <td>2005-07-05</td>\n",
       "      <td>130</td>\n",
       "    </tr>\n",
       "    <tr>\n",
       "      <td>518</td>\n",
       "      <td>519</td>\n",
       "      <td>139</td>\n",
       "      <td>Pope Joan</td>\n",
       "      <td>422</td>\n",
       "      <td>2009-06-09</td>\n",
       "      <td>34</td>\n",
       "    </tr>\n",
       "    <tr>\n",
       "      <td>218</td>\n",
       "      <td>219</td>\n",
       "      <td>108</td>\n",
       "      <td>Endymion (Hyperion Cantos  #3)</td>\n",
       "      <td>563</td>\n",
       "      <td>1996-12-01</td>\n",
       "      <td>40</td>\n",
       "    </tr>\n",
       "  </tbody>\n",
       "</table>\n",
       "</div>"
      ],
      "text/plain": [
       "     book_id  author_id                                              title  \\\n",
       "411      412        390                   Lucy Sullivan Is Getting Married   \n",
       "665      666        530  The Burden of Proof (Kindle County Legal Thril...   \n",
       "124      125          9        Brave New World / Brave New World Revisited   \n",
       "518      519        139                                          Pope Joan   \n",
       "218      219        108                     Endymion (Hyperion Cantos  #3)   \n",
       "\n",
       "     num_pages publication_date  publisher_id  \n",
       "411        640       2007-01-23           333  \n",
       "665        608       2000-12-01           116  \n",
       "124        340       2005-07-05           130  \n",
       "518        422       2009-06-09            34  \n",
       "218        563       1996-12-01            40  "
      ]
     },
     "metadata": {},
     "output_type": "display_data"
    }
   ],
   "source": [
    "result = pd.io.sql.read_sql(query, con = engine)\n",
    "display(result.sample(5))"
   ]
  },
  {
   "cell_type": "code",
   "execution_count": 4,
   "metadata": {},
   "outputs": [],
   "source": [
    "query = ''' SELECT * FROM authors '''"
   ]
  },
  {
   "cell_type": "code",
   "execution_count": 5,
   "metadata": {},
   "outputs": [
    {
     "data": {
      "text/html": [
       "<div>\n",
       "<style scoped>\n",
       "    .dataframe tbody tr th:only-of-type {\n",
       "        vertical-align: middle;\n",
       "    }\n",
       "\n",
       "    .dataframe tbody tr th {\n",
       "        vertical-align: top;\n",
       "    }\n",
       "\n",
       "    .dataframe thead th {\n",
       "        text-align: right;\n",
       "    }\n",
       "</style>\n",
       "<table border=\"1\" class=\"dataframe\">\n",
       "  <thead>\n",
       "    <tr style=\"text-align: right;\">\n",
       "      <th></th>\n",
       "      <th>author_id</th>\n",
       "      <th>author</th>\n",
       "    </tr>\n",
       "  </thead>\n",
       "  <tbody>\n",
       "    <tr>\n",
       "      <td>104</td>\n",
       "      <td>105</td>\n",
       "      <td>Dale Carnegie</td>\n",
       "    </tr>\n",
       "    <tr>\n",
       "      <td>479</td>\n",
       "      <td>480</td>\n",
       "      <td>Philip Roth</td>\n",
       "    </tr>\n",
       "    <tr>\n",
       "      <td>91</td>\n",
       "      <td>92</td>\n",
       "      <td>Christine Feehan</td>\n",
       "    </tr>\n",
       "    <tr>\n",
       "      <td>388</td>\n",
       "      <td>389</td>\n",
       "      <td>Marguerite Henry/Wesley Dennis</td>\n",
       "    </tr>\n",
       "    <tr>\n",
       "      <td>314</td>\n",
       "      <td>315</td>\n",
       "      <td>Jon Stone/Michael J. Smollin</td>\n",
       "    </tr>\n",
       "  </tbody>\n",
       "</table>\n",
       "</div>"
      ],
      "text/plain": [
       "     author_id                          author\n",
       "104        105                   Dale Carnegie\n",
       "479        480                     Philip Roth\n",
       "91          92                Christine Feehan\n",
       "388        389  Marguerite Henry/Wesley Dennis\n",
       "314        315    Jon Stone/Michael J. Smollin"
      ]
     },
     "metadata": {},
     "output_type": "display_data"
    }
   ],
   "source": [
    "result = pd.io.sql.read_sql(query, con = engine)\n",
    "display(result.sample(5))"
   ]
  },
  {
   "cell_type": "code",
   "execution_count": 79,
   "metadata": {},
   "outputs": [],
   "source": [
    "query = ''' SELECT * FROM ratings '''"
   ]
  },
  {
   "cell_type": "code",
   "execution_count": 80,
   "metadata": {},
   "outputs": [
    {
     "data": {
      "text/html": [
       "<div>\n",
       "<style scoped>\n",
       "    .dataframe tbody tr th:only-of-type {\n",
       "        vertical-align: middle;\n",
       "    }\n",
       "\n",
       "    .dataframe tbody tr th {\n",
       "        vertical-align: top;\n",
       "    }\n",
       "\n",
       "    .dataframe thead th {\n",
       "        text-align: right;\n",
       "    }\n",
       "</style>\n",
       "<table border=\"1\" class=\"dataframe\">\n",
       "  <thead>\n",
       "    <tr style=\"text-align: right;\">\n",
       "      <th></th>\n",
       "      <th>count</th>\n",
       "    </tr>\n",
       "  </thead>\n",
       "  <tbody>\n",
       "    <tr>\n",
       "      <td>0</td>\n",
       "      <td>6456</td>\n",
       "    </tr>\n",
       "  </tbody>\n",
       "</table>\n",
       "</div>"
      ],
      "text/plain": [
       "   count\n",
       "0   6456"
      ]
     },
     "metadata": {},
     "output_type": "display_data"
    }
   ],
   "source": [
    "result = pd.io.sql.read_sql(query, con = engine)\n",
    "display(result)"
   ]
  },
  {
   "cell_type": "code",
   "execution_count": 77,
   "metadata": {},
   "outputs": [],
   "source": [
    "query = ''' SELECT * FROM reviews '''"
   ]
  },
  {
   "cell_type": "code",
   "execution_count": 78,
   "metadata": {},
   "outputs": [
    {
     "data": {
      "text/html": [
       "<div>\n",
       "<style scoped>\n",
       "    .dataframe tbody tr th:only-of-type {\n",
       "        vertical-align: middle;\n",
       "    }\n",
       "\n",
       "    .dataframe tbody tr th {\n",
       "        vertical-align: top;\n",
       "    }\n",
       "\n",
       "    .dataframe thead th {\n",
       "        text-align: right;\n",
       "    }\n",
       "</style>\n",
       "<table border=\"1\" class=\"dataframe\">\n",
       "  <thead>\n",
       "    <tr style=\"text-align: right;\">\n",
       "      <th></th>\n",
       "      <th>review_id</th>\n",
       "      <th>book_id</th>\n",
       "      <th>username</th>\n",
       "      <th>text</th>\n",
       "    </tr>\n",
       "  </thead>\n",
       "  <tbody>\n",
       "    <tr>\n",
       "      <td>0</td>\n",
       "      <td>1</td>\n",
       "      <td>1</td>\n",
       "      <td>brandtandrea</td>\n",
       "      <td>Mention society tell send professor analysis. ...</td>\n",
       "    </tr>\n",
       "    <tr>\n",
       "      <td>1</td>\n",
       "      <td>2</td>\n",
       "      <td>1</td>\n",
       "      <td>ryanfranco</td>\n",
       "      <td>Foot glass pretty audience hit themselves. Amo...</td>\n",
       "    </tr>\n",
       "    <tr>\n",
       "      <td>2</td>\n",
       "      <td>3</td>\n",
       "      <td>2</td>\n",
       "      <td>lorichen</td>\n",
       "      <td>Listen treat keep worry. Miss husband tax but ...</td>\n",
       "    </tr>\n",
       "    <tr>\n",
       "      <td>3</td>\n",
       "      <td>4</td>\n",
       "      <td>3</td>\n",
       "      <td>johnsonamanda</td>\n",
       "      <td>Finally month interesting blue could nature cu...</td>\n",
       "    </tr>\n",
       "    <tr>\n",
       "      <td>4</td>\n",
       "      <td>5</td>\n",
       "      <td>3</td>\n",
       "      <td>scotttamara</td>\n",
       "      <td>Nation purpose heavy give wait song will. List...</td>\n",
       "    </tr>\n",
       "    <tr>\n",
       "      <td>...</td>\n",
       "      <td>...</td>\n",
       "      <td>...</td>\n",
       "      <td>...</td>\n",
       "      <td>...</td>\n",
       "    </tr>\n",
       "    <tr>\n",
       "      <td>2788</td>\n",
       "      <td>2789</td>\n",
       "      <td>999</td>\n",
       "      <td>martinadam</td>\n",
       "      <td>Later hospital turn easy community. Fact same ...</td>\n",
       "    </tr>\n",
       "    <tr>\n",
       "      <td>2789</td>\n",
       "      <td>2790</td>\n",
       "      <td>1000</td>\n",
       "      <td>wknight</td>\n",
       "      <td>Change lose answer close pressure. Spend so now.</td>\n",
       "    </tr>\n",
       "    <tr>\n",
       "      <td>2790</td>\n",
       "      <td>2791</td>\n",
       "      <td>1000</td>\n",
       "      <td>carolrodriguez</td>\n",
       "      <td>Authority go who television entire hair guy po...</td>\n",
       "    </tr>\n",
       "    <tr>\n",
       "      <td>2791</td>\n",
       "      <td>2792</td>\n",
       "      <td>1000</td>\n",
       "      <td>wendy18</td>\n",
       "      <td>Or western offer wonder ask. More hear phone f...</td>\n",
       "    </tr>\n",
       "    <tr>\n",
       "      <td>2792</td>\n",
       "      <td>2793</td>\n",
       "      <td>1000</td>\n",
       "      <td>jarvispaul</td>\n",
       "      <td>Republican staff bit eat material measure plan...</td>\n",
       "    </tr>\n",
       "  </tbody>\n",
       "</table>\n",
       "<p>2793 rows × 4 columns</p>\n",
       "</div>"
      ],
      "text/plain": [
       "      review_id  book_id        username  \\\n",
       "0             1        1    brandtandrea   \n",
       "1             2        1      ryanfranco   \n",
       "2             3        2        lorichen   \n",
       "3             4        3   johnsonamanda   \n",
       "4             5        3     scotttamara   \n",
       "...         ...      ...             ...   \n",
       "2788       2789      999      martinadam   \n",
       "2789       2790     1000         wknight   \n",
       "2790       2791     1000  carolrodriguez   \n",
       "2791       2792     1000         wendy18   \n",
       "2792       2793     1000      jarvispaul   \n",
       "\n",
       "                                                   text  \n",
       "0     Mention society tell send professor analysis. ...  \n",
       "1     Foot glass pretty audience hit themselves. Amo...  \n",
       "2     Listen treat keep worry. Miss husband tax but ...  \n",
       "3     Finally month interesting blue could nature cu...  \n",
       "4     Nation purpose heavy give wait song will. List...  \n",
       "...                                                 ...  \n",
       "2788  Later hospital turn easy community. Fact same ...  \n",
       "2789   Change lose answer close pressure. Spend so now.  \n",
       "2790  Authority go who television entire hair guy po...  \n",
       "2791  Or western offer wonder ask. More hear phone f...  \n",
       "2792  Republican staff bit eat material measure plan...  \n",
       "\n",
       "[2793 rows x 4 columns]"
      ]
     },
     "metadata": {},
     "output_type": "display_data"
    }
   ],
   "source": [
    "result = pd.io.sql.read_sql(query, con = engine)\n",
    "display(result)"
   ]
  },
  {
   "cell_type": "code",
   "execution_count": 10,
   "metadata": {},
   "outputs": [],
   "source": [
    "query = ''' SELECT * FROM publishers '''"
   ]
  },
  {
   "cell_type": "code",
   "execution_count": 11,
   "metadata": {},
   "outputs": [
    {
     "data": {
      "text/html": [
       "<div>\n",
       "<style scoped>\n",
       "    .dataframe tbody tr th:only-of-type {\n",
       "        vertical-align: middle;\n",
       "    }\n",
       "\n",
       "    .dataframe tbody tr th {\n",
       "        vertical-align: top;\n",
       "    }\n",
       "\n",
       "    .dataframe thead th {\n",
       "        text-align: right;\n",
       "    }\n",
       "</style>\n",
       "<table border=\"1\" class=\"dataframe\">\n",
       "  <thead>\n",
       "    <tr style=\"text-align: right;\">\n",
       "      <th></th>\n",
       "      <th>publisher_id</th>\n",
       "      <th>publisher</th>\n",
       "    </tr>\n",
       "  </thead>\n",
       "  <tbody>\n",
       "    <tr>\n",
       "      <td>309</td>\n",
       "      <td>310</td>\n",
       "      <td>Vintage Books</td>\n",
       "    </tr>\n",
       "    <tr>\n",
       "      <td>125</td>\n",
       "      <td>126</td>\n",
       "      <td>Harper</td>\n",
       "    </tr>\n",
       "    <tr>\n",
       "      <td>112</td>\n",
       "      <td>113</td>\n",
       "      <td>Golden/Disney</td>\n",
       "    </tr>\n",
       "    <tr>\n",
       "      <td>308</td>\n",
       "      <td>309</td>\n",
       "      <td>Vintage</td>\n",
       "    </tr>\n",
       "    <tr>\n",
       "      <td>192</td>\n",
       "      <td>193</td>\n",
       "      <td>No Exit Press</td>\n",
       "    </tr>\n",
       "  </tbody>\n",
       "</table>\n",
       "</div>"
      ],
      "text/plain": [
       "     publisher_id      publisher\n",
       "309           310  Vintage Books\n",
       "125           126         Harper\n",
       "112           113  Golden/Disney\n",
       "308           309        Vintage\n",
       "192           193  No Exit Press"
      ]
     },
     "metadata": {},
     "output_type": "display_data"
    }
   ],
   "source": [
    "result = pd.io.sql.read_sql(query, con = engine)\n",
    "display(result.sample(5))"
   ]
  },
  {
   "cell_type": "markdown",
   "metadata": {},
   "source": [
    "### Task"
   ]
  },
  {
   "cell_type": "markdown",
   "metadata": {},
   "source": [
    "##### Find the number of books released after January 1, 2000."
   ]
  },
  {
   "cell_type": "code",
   "execution_count": 12,
   "metadata": {},
   "outputs": [],
   "source": [
    "query = ''' SELECT COUNT(book_id)\n",
    "FROM books \n",
    "WHERE publication_date > '2000-01-01' '''"
   ]
  },
  {
   "cell_type": "code",
   "execution_count": 13,
   "metadata": {},
   "outputs": [
    {
     "data": {
      "text/html": [
       "<div>\n",
       "<style scoped>\n",
       "    .dataframe tbody tr th:only-of-type {\n",
       "        vertical-align: middle;\n",
       "    }\n",
       "\n",
       "    .dataframe tbody tr th {\n",
       "        vertical-align: top;\n",
       "    }\n",
       "\n",
       "    .dataframe thead th {\n",
       "        text-align: right;\n",
       "    }\n",
       "</style>\n",
       "<table border=\"1\" class=\"dataframe\">\n",
       "  <thead>\n",
       "    <tr style=\"text-align: right;\">\n",
       "      <th></th>\n",
       "      <th>count</th>\n",
       "    </tr>\n",
       "  </thead>\n",
       "  <tbody>\n",
       "    <tr>\n",
       "      <td>0</td>\n",
       "      <td>819</td>\n",
       "    </tr>\n",
       "  </tbody>\n",
       "</table>\n",
       "</div>"
      ],
      "text/plain": [
       "   count\n",
       "0    819"
      ]
     },
     "metadata": {},
     "output_type": "display_data"
    }
   ],
   "source": [
    "result = pd.io.sql.read_sql(query, con = engine)\n",
    "display(result)"
   ]
  },
  {
   "cell_type": "markdown",
   "metadata": {},
   "source": [
    "##### Find the number of user reviews and the average rating for each book."
   ]
  },
  {
   "cell_type": "code",
   "execution_count": 14,
   "metadata": {},
   "outputs": [],
   "source": [
    "query = ''' SELECT COUNT(DISTINCT review_id) as Num_of_Reviews, \n",
    "                   ROUND(AVG(rating),2) as avg_rating, \n",
    "                   rat.book_id\n",
    "            FROM ratings as rat join reviews as rev\n",
    "            ON rev.book_id = rat.book_id \n",
    "            GROUP BY rat.book_id '''"
   ]
  },
  {
   "cell_type": "code",
   "execution_count": 15,
   "metadata": {},
   "outputs": [
    {
     "data": {
      "text/html": [
       "<div>\n",
       "<style scoped>\n",
       "    .dataframe tbody tr th:only-of-type {\n",
       "        vertical-align: middle;\n",
       "    }\n",
       "\n",
       "    .dataframe tbody tr th {\n",
       "        vertical-align: top;\n",
       "    }\n",
       "\n",
       "    .dataframe thead th {\n",
       "        text-align: right;\n",
       "    }\n",
       "</style>\n",
       "<table border=\"1\" class=\"dataframe\">\n",
       "  <thead>\n",
       "    <tr style=\"text-align: right;\">\n",
       "      <th></th>\n",
       "      <th>num_of_reviews</th>\n",
       "      <th>avg_rating</th>\n",
       "      <th>book_id</th>\n",
       "    </tr>\n",
       "  </thead>\n",
       "  <tbody>\n",
       "    <tr>\n",
       "      <td>0</td>\n",
       "      <td>2</td>\n",
       "      <td>3.67</td>\n",
       "      <td>1</td>\n",
       "    </tr>\n",
       "    <tr>\n",
       "      <td>1</td>\n",
       "      <td>1</td>\n",
       "      <td>2.50</td>\n",
       "      <td>2</td>\n",
       "    </tr>\n",
       "    <tr>\n",
       "      <td>2</td>\n",
       "      <td>3</td>\n",
       "      <td>4.67</td>\n",
       "      <td>3</td>\n",
       "    </tr>\n",
       "    <tr>\n",
       "      <td>3</td>\n",
       "      <td>2</td>\n",
       "      <td>4.50</td>\n",
       "      <td>4</td>\n",
       "    </tr>\n",
       "    <tr>\n",
       "      <td>4</td>\n",
       "      <td>4</td>\n",
       "      <td>4.00</td>\n",
       "      <td>5</td>\n",
       "    </tr>\n",
       "  </tbody>\n",
       "</table>\n",
       "</div>"
      ],
      "text/plain": [
       "   num_of_reviews  avg_rating  book_id\n",
       "0               2        3.67        1\n",
       "1               1        2.50        2\n",
       "2               3        4.67        3\n",
       "3               2        4.50        4\n",
       "4               4        4.00        5"
      ]
     },
     "metadata": {},
     "output_type": "display_data"
    }
   ],
   "source": [
    "result = pd.io.sql.read_sql(query, con = engine)\n",
    "display(result.head(5))"
   ]
  },
  {
   "cell_type": "markdown",
   "metadata": {},
   "source": [
    "##### Identify the publisher that has released the greatest number of books with more than 50 pages (this will help you exclude brochures and similar publications from your analysis)."
   ]
  },
  {
   "cell_type": "code",
   "execution_count": 16,
   "metadata": {},
   "outputs": [],
   "source": [
    " query = ''' SELECT publisher, books_num\n",
    " FROM publishers p JOIN\n",
    "(SELECT publisher_id, COUNT(book_id) AS books_num \n",
    "FROM books\n",
    "WHERE num_pages > 50\n",
    "GROUP BY publisher_id\n",
    "ORDER BY books_num DESC LIMIT 1) b\n",
    "on b.publisher_id = p.publisher_id\n",
    "'''   "
   ]
  },
  {
   "cell_type": "code",
   "execution_count": 17,
   "metadata": {},
   "outputs": [
    {
     "data": {
      "text/html": [
       "<div>\n",
       "<style scoped>\n",
       "    .dataframe tbody tr th:only-of-type {\n",
       "        vertical-align: middle;\n",
       "    }\n",
       "\n",
       "    .dataframe tbody tr th {\n",
       "        vertical-align: top;\n",
       "    }\n",
       "\n",
       "    .dataframe thead th {\n",
       "        text-align: right;\n",
       "    }\n",
       "</style>\n",
       "<table border=\"1\" class=\"dataframe\">\n",
       "  <thead>\n",
       "    <tr style=\"text-align: right;\">\n",
       "      <th></th>\n",
       "      <th>publisher</th>\n",
       "      <th>books_num</th>\n",
       "    </tr>\n",
       "  </thead>\n",
       "  <tbody>\n",
       "    <tr>\n",
       "      <td>0</td>\n",
       "      <td>Penguin Books</td>\n",
       "      <td>42</td>\n",
       "    </tr>\n",
       "  </tbody>\n",
       "</table>\n",
       "</div>"
      ],
      "text/plain": [
       "       publisher  books_num\n",
       "0  Penguin Books         42"
      ]
     },
     "metadata": {},
     "output_type": "display_data"
    }
   ],
   "source": [
    "result = pd.io.sql.read_sql(query, con = engine)\n",
    "display(result)"
   ]
  },
  {
   "cell_type": "markdown",
   "metadata": {},
   "source": [
    "Identify the author with the highest average book rating (look only at books with at least 50 ratings)."
   ]
  },
  {
   "cell_type": "code",
   "execution_count": 18,
   "metadata": {},
   "outputs": [],
   "source": [
    "query = ''' SELECT author, avg_highest_rating\n",
    "FROM authors a JOIN \n",
    "(SELECT AVG(rating) AS avg_highest_rating, author_id\n",
    "FROM ratings r JOIN books b\n",
    "on b.book_id = r.book_id\n",
    "WHERE num_pages > 50\n",
    "GROUP BY author_id\n",
    "ORDER BY avg_highest_rating DESC LIMIT 1) sub\n",
    "on a.author_id = sub.author_id\n",
    "'''   "
   ]
  },
  {
   "cell_type": "code",
   "execution_count": 19,
   "metadata": {},
   "outputs": [
    {
     "data": {
      "text/html": [
       "<div>\n",
       "<style scoped>\n",
       "    .dataframe tbody tr th:only-of-type {\n",
       "        vertical-align: middle;\n",
       "    }\n",
       "\n",
       "    .dataframe tbody tr th {\n",
       "        vertical-align: top;\n",
       "    }\n",
       "\n",
       "    .dataframe thead th {\n",
       "        text-align: right;\n",
       "    }\n",
       "</style>\n",
       "<table border=\"1\" class=\"dataframe\">\n",
       "  <thead>\n",
       "    <tr style=\"text-align: right;\">\n",
       "      <th></th>\n",
       "      <th>author</th>\n",
       "      <th>avg_highest_rating</th>\n",
       "    </tr>\n",
       "  </thead>\n",
       "  <tbody>\n",
       "    <tr>\n",
       "      <td>0</td>\n",
       "      <td>Barbara Taylor Bradford</td>\n",
       "      <td>5.0</td>\n",
       "    </tr>\n",
       "  </tbody>\n",
       "</table>\n",
       "</div>"
      ],
      "text/plain": [
       "                    author  avg_highest_rating\n",
       "0  Barbara Taylor Bradford                 5.0"
      ]
     },
     "metadata": {},
     "output_type": "display_data"
    }
   ],
   "source": [
    "result = pd.io.sql.read_sql(query, con = engine)\n",
    "display(result)"
   ]
  },
  {
   "cell_type": "markdown",
   "metadata": {},
   "source": [
    "This is the right query, check it out again please"
   ]
  },
  {
   "cell_type": "markdown",
   "metadata": {},
   "source": [
    "##### Find the average number of text reviews among users who rated more than 50 books."
   ]
  },
  {
   "cell_type": "code",
   "execution_count": 106,
   "metadata": {},
   "outputs": [],
   "source": [
    "query = ''' SELECT ROUND(AVG(sub.text_num),3) AS avg_num_of_text_reviews\n",
    "            FROM (SELECT COUNT(DISTINCT rev.text) AS text_num, \n",
    "                  COUNT(DISTINCT rat.book_id) as rated_books, rev.username \n",
    "                  FROM reviews rev JOIN ratings rat\n",
    "                  ON rev.username = rat.username\n",
    "                  GROUP BY rev.username) sub\n",
    "                  WHERE rated_books > 50\n",
    "                  '''  "
   ]
  },
  {
   "cell_type": "code",
   "execution_count": 107,
   "metadata": {},
   "outputs": [
    {
     "data": {
      "text/html": [
       "<div>\n",
       "<style scoped>\n",
       "    .dataframe tbody tr th:only-of-type {\n",
       "        vertical-align: middle;\n",
       "    }\n",
       "\n",
       "    .dataframe tbody tr th {\n",
       "        vertical-align: top;\n",
       "    }\n",
       "\n",
       "    .dataframe thead th {\n",
       "        text-align: right;\n",
       "    }\n",
       "</style>\n",
       "<table border=\"1\" class=\"dataframe\">\n",
       "  <thead>\n",
       "    <tr style=\"text-align: right;\">\n",
       "      <th></th>\n",
       "      <th>avg_num_of_text_reviews</th>\n",
       "    </tr>\n",
       "  </thead>\n",
       "  <tbody>\n",
       "    <tr>\n",
       "      <td>0</td>\n",
       "      <td>24.333</td>\n",
       "    </tr>\n",
       "  </tbody>\n",
       "</table>\n",
       "</div>"
      ],
      "text/plain": [
       "   avg_num_of_text_reviews\n",
       "0                   24.333"
      ]
     },
     "metadata": {},
     "output_type": "display_data"
    }
   ],
   "source": [
    "result = pd.io.sql.read_sql(query, con = engine)\n",
    "display(result)"
   ]
  },
  {
   "cell_type": "markdown",
   "metadata": {},
   "source": [
    "Was on the rush sorry, anyway I don't think there is same review text only book_id  "
   ]
  },
  {
   "cell_type": "markdown",
   "metadata": {},
   "source": [
    "##### Conclusions "
   ]
  },
  {
   "cell_type": "markdown",
   "metadata": {},
   "source": [
    "After running the queries I found out that 819 books released after January 1, 2000 and the, highest average user rating is 5.\n",
    "Penguin Books is the publisher that released the greatest number of books with more than 50 pages (waw 42 books).\n",
    "The author with the highest average book rating is Barbara Taylor Bradford, the average number of text reviews among users who rated more than 50 books\n",
    "is 24.\n",
    "I hope that I am done here. Thank you!"
   ]
  }
 ],
 "metadata": {
  "ExecuteTimeLog": [
   {
    "duration": 53030,
    "start_time": "2021-07-19T22:22:21.343Z"
   },
   {
    "duration": 3,
    "start_time": "2021-07-19T22:23:14.375Z"
   },
   {
    "duration": 294,
    "start_time": "2021-07-19T22:23:14.379Z"
   },
   {
    "duration": 2,
    "start_time": "2021-07-19T22:23:14.675Z"
   },
   {
    "duration": 76,
    "start_time": "2021-07-19T22:23:14.679Z"
   },
   {
    "duration": 2,
    "start_time": "2021-07-19T22:23:14.757Z"
   },
   {
    "duration": 80,
    "start_time": "2021-07-19T22:23:14.761Z"
   },
   {
    "duration": 3,
    "start_time": "2021-07-19T22:23:14.843Z"
   },
   {
    "duration": 79,
    "start_time": "2021-07-19T22:23:14.848Z"
   },
   {
    "duration": 3,
    "start_time": "2021-07-19T22:23:14.928Z"
   },
   {
    "duration": 86,
    "start_time": "2021-07-19T22:23:14.932Z"
   },
   {
    "duration": 2,
    "start_time": "2021-07-19T22:23:15.020Z"
   },
   {
    "duration": 94,
    "start_time": "2021-07-19T22:23:15.023Z"
   },
   {
    "duration": 2,
    "start_time": "2021-07-19T22:23:15.119Z"
   },
   {
    "duration": 114,
    "start_time": "2021-07-19T22:23:15.122Z"
   },
   {
    "duration": 2,
    "start_time": "2021-07-19T22:23:15.238Z"
   },
   {
    "duration": 91,
    "start_time": "2021-07-19T22:23:15.242Z"
   },
   {
    "duration": 471,
    "start_time": "2021-07-20T05:16:34.351Z"
   },
   {
    "duration": 5265,
    "start_time": "2021-07-20T05:16:44.912Z"
   },
   {
    "duration": 4,
    "start_time": "2021-07-20T05:16:50.181Z"
   },
   {
    "duration": 224,
    "start_time": "2021-07-20T05:16:51.111Z"
   },
   {
    "duration": 3,
    "start_time": "2021-07-20T18:14:58.648Z"
   },
   {
    "duration": 224,
    "start_time": "2021-07-20T18:15:00.888Z"
   },
   {
    "duration": 2690,
    "start_time": "2021-07-20T18:15:16.827Z"
   },
   {
    "duration": 2,
    "start_time": "2021-07-20T18:15:19.519Z"
   },
   {
    "duration": 279,
    "start_time": "2021-07-20T18:15:19.523Z"
   },
   {
    "duration": 3,
    "start_time": "2021-07-20T18:15:19.804Z"
   },
   {
    "duration": 75,
    "start_time": "2021-07-20T18:15:19.808Z"
   },
   {
    "duration": 2,
    "start_time": "2021-07-20T18:15:19.885Z"
   },
   {
    "duration": 72,
    "start_time": "2021-07-20T18:15:19.888Z"
   },
   {
    "duration": 2,
    "start_time": "2021-07-20T18:15:19.961Z"
   },
   {
    "duration": 79,
    "start_time": "2021-07-20T18:15:19.965Z"
   },
   {
    "duration": 3,
    "start_time": "2021-07-20T18:15:20.045Z"
   },
   {
    "duration": 77,
    "start_time": "2021-07-20T18:15:20.049Z"
   },
   {
    "duration": 3,
    "start_time": "2021-07-20T18:15:20.127Z"
   },
   {
    "duration": 73,
    "start_time": "2021-07-20T18:15:20.131Z"
   },
   {
    "duration": 2,
    "start_time": "2021-07-20T18:15:20.205Z"
   },
   {
    "duration": 76,
    "start_time": "2021-07-20T18:15:20.209Z"
   },
   {
    "duration": 2,
    "start_time": "2021-07-20T18:15:20.287Z"
   },
   {
    "duration": 102,
    "start_time": "2021-07-20T18:15:20.291Z"
   },
   {
    "duration": 3,
    "start_time": "2021-07-20T18:15:20.394Z"
   },
   {
    "duration": 81,
    "start_time": "2021-07-20T18:15:20.398Z"
   },
   {
    "duration": 3,
    "start_time": "2021-07-20T18:16:44.335Z"
   },
   {
    "duration": 117,
    "start_time": "2021-07-20T18:16:47.155Z"
   },
   {
    "duration": 3,
    "start_time": "2021-07-20T18:17:48.555Z"
   },
   {
    "duration": 156,
    "start_time": "2021-07-20T18:17:50.574Z"
   },
   {
    "duration": 5,
    "start_time": "2021-07-20T18:18:48.415Z"
   },
   {
    "duration": 69,
    "start_time": "2021-07-20T18:18:51.195Z"
   },
   {
    "duration": 3,
    "start_time": "2021-07-20T18:21:42.695Z"
   },
   {
    "duration": 76,
    "start_time": "2021-07-20T18:21:45.596Z"
   },
   {
    "duration": 72,
    "start_time": "2021-07-20T18:22:00.676Z"
   },
   {
    "duration": 3,
    "start_time": "2021-07-20T18:23:55.865Z"
   },
   {
    "duration": 71,
    "start_time": "2021-07-20T18:23:57.605Z"
   },
   {
    "duration": 4,
    "start_time": "2021-07-20T18:26:30.006Z"
   },
   {
    "duration": 81,
    "start_time": "2021-07-20T18:26:32.785Z"
   },
   {
    "duration": 3,
    "start_time": "2021-07-20T18:34:11.766Z"
   },
   {
    "duration": 69,
    "start_time": "2021-07-20T18:34:14.146Z"
   },
   {
    "duration": 2,
    "start_time": "2021-07-20T18:34:18.396Z"
   },
   {
    "duration": 68,
    "start_time": "2021-07-20T18:34:21.847Z"
   },
   {
    "duration": 2,
    "start_time": "2021-07-20T18:34:40.187Z"
   },
   {
    "duration": 321,
    "start_time": "2021-07-20T18:34:41.736Z"
   },
   {
    "duration": 2,
    "start_time": "2021-07-20T18:34:44.877Z"
   },
   {
    "duration": 250,
    "start_time": "2021-07-20T18:34:46.966Z"
   },
   {
    "duration": 251,
    "start_time": "2021-07-20T18:36:34.556Z"
   },
   {
    "duration": 2,
    "start_time": "2021-07-20T19:01:33.007Z"
   },
   {
    "duration": 1889,
    "start_time": "2021-07-20T19:01:35.075Z"
   },
   {
    "duration": 2,
    "start_time": "2021-07-20T19:02:15.548Z"
   },
   {
    "duration": 1833,
    "start_time": "2021-07-20T19:02:17.481Z"
   },
   {
    "duration": 2,
    "start_time": "2021-07-20T19:04:27.595Z"
   },
   {
    "duration": 1268,
    "start_time": "2021-07-20T19:04:29.328Z"
   },
   {
    "duration": 2,
    "start_time": "2021-07-20T19:05:09.471Z"
   },
   {
    "duration": 68,
    "start_time": "2021-07-20T19:05:11.336Z"
   },
   {
    "duration": 3,
    "start_time": "2021-07-20T19:15:38.862Z"
   },
   {
    "duration": 71,
    "start_time": "2021-07-20T19:15:40.970Z"
   },
   {
    "duration": 2,
    "start_time": "2021-07-20T19:19:24.589Z"
   },
   {
    "duration": 75,
    "start_time": "2021-07-20T19:19:26.987Z"
   },
   {
    "duration": 4,
    "start_time": "2021-07-20T19:19:44.386Z"
   },
   {
    "duration": 72,
    "start_time": "2021-07-20T19:19:46.234Z"
   },
   {
    "duration": 2,
    "start_time": "2021-07-20T19:19:57.327Z"
   },
   {
    "duration": 71,
    "start_time": "2021-07-20T19:19:59.377Z"
   },
   {
    "duration": 3,
    "start_time": "2021-07-20T19:26:16.101Z"
   },
   {
    "duration": 560,
    "start_time": "2021-07-20T19:26:18.512Z"
   },
   {
    "duration": 3,
    "start_time": "2021-07-20T19:29:05.392Z"
   },
   {
    "duration": 2427,
    "start_time": "2021-07-20T19:29:07.048Z"
   },
   {
    "duration": 2,
    "start_time": "2021-07-20T19:30:09.317Z"
   },
   {
    "duration": 76,
    "start_time": "2021-07-20T19:30:11.458Z"
   },
   {
    "duration": 7,
    "start_time": "2021-07-20T19:30:46.088Z"
   },
   {
    "duration": 565,
    "start_time": "2021-07-20T19:30:48.152Z"
   },
   {
    "duration": 2,
    "start_time": "2021-07-20T19:32:05.015Z"
   },
   {
    "duration": 431,
    "start_time": "2021-07-20T19:32:06.418Z"
   },
   {
    "duration": 2,
    "start_time": "2021-07-20T19:36:03.397Z"
   },
   {
    "duration": 74,
    "start_time": "2021-07-20T19:36:05.297Z"
   },
   {
    "duration": 3,
    "start_time": "2021-07-20T19:36:36.367Z"
   },
   {
    "duration": 3,
    "start_time": "2021-07-20T19:36:39.415Z"
   },
   {
    "duration": 76,
    "start_time": "2021-07-20T19:36:41.370Z"
   },
   {
    "duration": 2,
    "start_time": "2021-07-20T19:36:52.260Z"
   },
   {
    "duration": 75,
    "start_time": "2021-07-20T19:36:54.547Z"
   },
   {
    "duration": 3,
    "start_time": "2021-07-20T19:41:38.127Z"
   },
   {
    "duration": 71,
    "start_time": "2021-07-20T19:41:40.107Z"
   },
   {
    "duration": 2620,
    "start_time": "2021-07-20T19:43:37.719Z"
   },
   {
    "duration": 2,
    "start_time": "2021-07-20T19:43:40.341Z"
   },
   {
    "duration": 302,
    "start_time": "2021-07-20T19:43:40.346Z"
   },
   {
    "duration": 2,
    "start_time": "2021-07-20T19:43:40.650Z"
   },
   {
    "duration": 77,
    "start_time": "2021-07-20T19:43:40.654Z"
   },
   {
    "duration": 2,
    "start_time": "2021-07-20T19:43:40.733Z"
   },
   {
    "duration": 98,
    "start_time": "2021-07-20T19:43:40.737Z"
   },
   {
    "duration": 3,
    "start_time": "2021-07-20T19:43:40.836Z"
   },
   {
    "duration": 90,
    "start_time": "2021-07-20T19:43:40.841Z"
   },
   {
    "duration": 2,
    "start_time": "2021-07-20T19:43:40.934Z"
   },
   {
    "duration": 77,
    "start_time": "2021-07-20T19:43:40.938Z"
   },
   {
    "duration": 2,
    "start_time": "2021-07-20T19:43:41.017Z"
   },
   {
    "duration": 77,
    "start_time": "2021-07-20T19:43:41.020Z"
   },
   {
    "duration": 3,
    "start_time": "2021-07-20T19:43:41.098Z"
   },
   {
    "duration": 81,
    "start_time": "2021-07-20T19:43:41.102Z"
   },
   {
    "duration": 3,
    "start_time": "2021-07-20T19:43:41.184Z"
   },
   {
    "duration": 79,
    "start_time": "2021-07-20T19:43:41.189Z"
   },
   {
    "duration": 2,
    "start_time": "2021-07-20T19:43:41.269Z"
   },
   {
    "duration": 88,
    "start_time": "2021-07-20T19:43:41.272Z"
   },
   {
    "duration": 3,
    "start_time": "2021-07-20T19:43:41.361Z"
   },
   {
    "duration": 85,
    "start_time": "2021-07-20T19:43:41.365Z"
   },
   {
    "duration": 81,
    "start_time": "2021-07-20T19:44:31.427Z"
   },
   {
    "duration": 2739,
    "start_time": "2021-07-21T12:52:19.182Z"
   },
   {
    "duration": 3,
    "start_time": "2021-07-21T12:52:21.923Z"
   },
   {
    "duration": 278,
    "start_time": "2021-07-21T12:52:21.928Z"
   },
   {
    "duration": 2,
    "start_time": "2021-07-21T12:52:22.208Z"
   },
   {
    "duration": 73,
    "start_time": "2021-07-21T12:52:22.211Z"
   },
   {
    "duration": 2,
    "start_time": "2021-07-21T12:52:22.286Z"
   },
   {
    "duration": 101,
    "start_time": "2021-07-21T12:52:22.290Z"
   },
   {
    "duration": 3,
    "start_time": "2021-07-21T12:52:22.394Z"
   },
   {
    "duration": 86,
    "start_time": "2021-07-21T12:52:22.399Z"
   },
   {
    "duration": 3,
    "start_time": "2021-07-21T12:52:22.487Z"
   },
   {
    "duration": 73,
    "start_time": "2021-07-21T12:52:22.492Z"
   },
   {
    "duration": 2,
    "start_time": "2021-07-21T12:52:22.567Z"
   },
   {
    "duration": 70,
    "start_time": "2021-07-21T12:52:22.571Z"
   },
   {
    "duration": 3,
    "start_time": "2021-07-21T12:52:22.643Z"
   },
   {
    "duration": 76,
    "start_time": "2021-07-21T12:52:22.647Z"
   },
   {
    "duration": 9,
    "start_time": "2021-07-21T12:52:22.725Z"
   },
   {
    "duration": 2,
    "start_time": "2021-07-21T12:53:17.122Z"
   },
   {
    "duration": 75,
    "start_time": "2021-07-21T12:53:17.414Z"
   },
   {
    "duration": 5,
    "start_time": "2021-07-21T20:12:18.249Z"
   },
   {
    "duration": 394,
    "start_time": "2021-07-21T20:12:20.029Z"
   },
   {
    "duration": 5148,
    "start_time": "2021-07-21T20:12:36.893Z"
   },
   {
    "duration": 3,
    "start_time": "2021-07-21T20:12:42.044Z"
   },
   {
    "duration": 267,
    "start_time": "2021-07-21T20:12:42.050Z"
   },
   {
    "duration": 3,
    "start_time": "2021-07-21T20:12:42.320Z"
   },
   {
    "duration": 72,
    "start_time": "2021-07-21T20:12:42.325Z"
   },
   {
    "duration": 3,
    "start_time": "2021-07-21T20:12:42.400Z"
   },
   {
    "duration": 109,
    "start_time": "2021-07-21T20:12:42.406Z"
   },
   {
    "duration": 3,
    "start_time": "2021-07-21T20:12:42.517Z"
   },
   {
    "duration": 94,
    "start_time": "2021-07-21T20:12:42.526Z"
   },
   {
    "duration": 4,
    "start_time": "2021-07-21T20:12:42.623Z"
   },
   {
    "duration": 87,
    "start_time": "2021-07-21T20:12:42.629Z"
   },
   {
    "duration": 4,
    "start_time": "2021-07-21T20:12:42.719Z"
   },
   {
    "duration": 82,
    "start_time": "2021-07-21T20:12:42.726Z"
   },
   {
    "duration": 4,
    "start_time": "2021-07-21T20:12:42.811Z"
   },
   {
    "duration": 91,
    "start_time": "2021-07-21T20:12:42.818Z"
   },
   {
    "duration": 4,
    "start_time": "2021-07-21T20:12:42.912Z"
   },
   {
    "duration": 77,
    "start_time": "2021-07-21T20:12:42.918Z"
   },
   {
    "duration": 3,
    "start_time": "2021-07-21T20:12:42.997Z"
   },
   {
    "duration": 75,
    "start_time": "2021-07-21T20:12:43.002Z"
   },
   {
    "duration": 4,
    "start_time": "2021-07-21T20:12:43.079Z"
   },
   {
    "duration": 82,
    "start_time": "2021-07-21T20:12:43.085Z"
   },
   {
    "duration": 3,
    "start_time": "2021-07-21T20:13:39.493Z"
   },
   {
    "duration": 82,
    "start_time": "2021-07-21T20:13:41.183Z"
   },
   {
    "duration": 4,
    "start_time": "2021-07-21T20:14:27.312Z"
   },
   {
    "duration": 82,
    "start_time": "2021-07-21T20:14:29.511Z"
   },
   {
    "duration": 3,
    "start_time": "2021-07-21T20:14:47.842Z"
   },
   {
    "duration": 81,
    "start_time": "2021-07-21T20:14:49.394Z"
   },
   {
    "duration": 3,
    "start_time": "2021-07-21T20:20:18.633Z"
   },
   {
    "duration": 494,
    "start_time": "2021-07-21T20:20:20.730Z"
   },
   {
    "duration": 3,
    "start_time": "2021-07-21T20:20:44.546Z"
   },
   {
    "duration": 511,
    "start_time": "2021-07-21T20:20:47.032Z"
   },
   {
    "duration": 3,
    "start_time": "2021-07-21T20:20:59.343Z"
   },
   {
    "duration": 98,
    "start_time": "2021-07-21T20:21:00.983Z"
   },
   {
    "duration": 3,
    "start_time": "2021-07-21T20:21:53.586Z"
   },
   {
    "duration": 87,
    "start_time": "2021-07-21T20:21:55.583Z"
   },
   {
    "duration": 4,
    "start_time": "2021-07-21T20:22:02.094Z"
   },
   {
    "duration": 96,
    "start_time": "2021-07-21T20:22:03.958Z"
   },
   {
    "duration": 4,
    "start_time": "2021-07-21T20:22:12.710Z"
   },
   {
    "duration": 92,
    "start_time": "2021-07-21T20:22:14.174Z"
   },
   {
    "duration": 5,
    "start_time": "2021-07-21T20:25:58.063Z"
   },
   {
    "duration": 409,
    "start_time": "2021-07-21T20:26:00.623Z"
   },
   {
    "duration": 4,
    "start_time": "2021-07-21T20:28:22.955Z"
   },
   {
    "duration": 64,
    "start_time": "2021-07-21T20:28:25.382Z"
   },
   {
    "duration": 68,
    "start_time": "2021-07-21T20:42:36.181Z"
   },
   {
    "duration": 67,
    "start_time": "2021-07-21T20:43:46.147Z"
   },
   {
    "duration": 4,
    "start_time": "2021-07-21T20:43:59.216Z"
   },
   {
    "duration": 92,
    "start_time": "2021-07-21T20:44:01.117Z"
   },
   {
    "duration": 3,
    "start_time": "2021-07-21T20:46:18.168Z"
   },
   {
    "duration": 87,
    "start_time": "2021-07-21T20:46:20.287Z"
   },
   {
    "duration": 4017,
    "start_time": "2021-07-21T20:46:51.878Z"
   },
   {
    "duration": 4,
    "start_time": "2021-07-21T20:46:55.898Z"
   },
   {
    "duration": 258,
    "start_time": "2021-07-21T20:46:55.905Z"
   },
   {
    "duration": 4,
    "start_time": "2021-07-21T20:46:56.166Z"
   },
   {
    "duration": 78,
    "start_time": "2021-07-21T20:46:56.172Z"
   },
   {
    "duration": 3,
    "start_time": "2021-07-21T20:46:56.253Z"
   },
   {
    "duration": 101,
    "start_time": "2021-07-21T20:46:56.258Z"
   },
   {
    "duration": 4,
    "start_time": "2021-07-21T20:46:56.361Z"
   },
   {
    "duration": 86,
    "start_time": "2021-07-21T20:46:56.369Z"
   },
   {
    "duration": 3,
    "start_time": "2021-07-21T20:46:56.458Z"
   },
   {
    "duration": 82,
    "start_time": "2021-07-21T20:46:56.463Z"
   },
   {
    "duration": 4,
    "start_time": "2021-07-21T20:46:56.547Z"
   },
   {
    "duration": 75,
    "start_time": "2021-07-21T20:46:56.553Z"
   },
   {
    "duration": 3,
    "start_time": "2021-07-21T20:46:56.631Z"
   },
   {
    "duration": 81,
    "start_time": "2021-07-21T20:46:56.636Z"
   },
   {
    "duration": 3,
    "start_time": "2021-07-21T20:46:56.720Z"
   },
   {
    "duration": 85,
    "start_time": "2021-07-21T20:46:56.725Z"
   },
   {
    "duration": 3,
    "start_time": "2021-07-21T20:46:56.813Z"
   },
   {
    "duration": 74,
    "start_time": "2021-07-21T20:46:56.818Z"
   },
   {
    "duration": 3,
    "start_time": "2021-07-21T20:46:56.895Z"
   },
   {
    "duration": 100,
    "start_time": "2021-07-21T20:46:56.900Z"
   },
   {
    "duration": 298,
    "start_time": "2021-07-22T18:25:10.494Z"
   },
   {
    "duration": 25679,
    "start_time": "2021-07-22T18:25:13.870Z"
   },
   {
    "duration": 3,
    "start_time": "2021-07-22T18:25:39.550Z"
   },
   {
    "duration": 279,
    "start_time": "2021-07-22T18:25:39.555Z"
   },
   {
    "duration": 2,
    "start_time": "2021-07-22T18:25:39.836Z"
   },
   {
    "duration": 90,
    "start_time": "2021-07-22T18:25:39.839Z"
   },
   {
    "duration": 2,
    "start_time": "2021-07-22T18:25:39.931Z"
   },
   {
    "duration": 109,
    "start_time": "2021-07-22T18:25:39.934Z"
   },
   {
    "duration": 3,
    "start_time": "2021-07-22T18:25:40.046Z"
   },
   {
    "duration": 91,
    "start_time": "2021-07-22T18:25:40.051Z"
   },
   {
    "duration": 3,
    "start_time": "2021-07-22T18:25:40.143Z"
   },
   {
    "duration": 73,
    "start_time": "2021-07-22T18:25:40.147Z"
   },
   {
    "duration": 2,
    "start_time": "2021-07-22T18:25:40.221Z"
   },
   {
    "duration": 71,
    "start_time": "2021-07-22T18:25:40.224Z"
   },
   {
    "duration": 3,
    "start_time": "2021-07-22T18:25:40.296Z"
   },
   {
    "duration": 86,
    "start_time": "2021-07-22T18:25:40.300Z"
   },
   {
    "duration": 9,
    "start_time": "2021-07-22T18:25:40.387Z"
   },
   {
    "duration": 4,
    "start_time": "2021-07-22T18:25:41.259Z"
   },
   {
    "duration": 3,
    "start_time": "2021-07-22T18:25:42.061Z"
   },
   {
    "duration": 270,
    "start_time": "2021-07-22T18:25:42.241Z"
   },
   {
    "duration": 3,
    "start_time": "2021-07-22T18:25:42.512Z"
   },
   {
    "duration": 70,
    "start_time": "2021-07-22T18:25:42.570Z"
   },
   {
    "duration": 2,
    "start_time": "2021-07-22T18:25:42.709Z"
   },
   {
    "duration": 147,
    "start_time": "2021-07-22T18:25:42.869Z"
   },
   {
    "duration": 2,
    "start_time": "2021-07-22T18:25:43.464Z"
   },
   {
    "duration": 121,
    "start_time": "2021-07-22T18:25:45.272Z"
   },
   {
    "duration": 3,
    "start_time": "2021-07-22T18:25:45.435Z"
   },
   {
    "duration": 71,
    "start_time": "2021-07-22T18:25:45.606Z"
   },
   {
    "duration": 2,
    "start_time": "2021-07-22T18:25:46.398Z"
   },
   {
    "duration": 69,
    "start_time": "2021-07-22T18:25:46.589Z"
   },
   {
    "duration": 2,
    "start_time": "2021-07-22T18:25:48.479Z"
   },
   {
    "duration": 88,
    "start_time": "2021-07-22T18:25:48.639Z"
   },
   {
    "duration": 9,
    "start_time": "2021-07-22T18:25:51.207Z"
   },
   {
    "duration": 2,
    "start_time": "2021-07-22T18:26:41.335Z"
   },
   {
    "duration": 84,
    "start_time": "2021-07-22T18:26:42.113Z"
   },
   {
    "duration": 10,
    "start_time": "2021-07-22T18:26:50.673Z"
   },
   {
    "duration": 3,
    "start_time": "2021-07-22T18:32:16.380Z"
   },
   {
    "duration": 376,
    "start_time": "2021-07-22T18:32:17.093Z"
   },
   {
    "duration": 2,
    "start_time": "2021-07-22T18:32:35.552Z"
   },
   {
    "duration": 150,
    "start_time": "2021-07-22T18:32:38.726Z"
   },
   {
    "duration": 170,
    "start_time": "2021-07-22T18:32:42.770Z"
   },
   {
    "duration": 3,
    "start_time": "2021-07-22T18:34:23.961Z"
   },
   {
    "duration": 391,
    "start_time": "2021-07-22T18:34:24.661Z"
   },
   {
    "duration": 2,
    "start_time": "2021-07-22T18:34:45.672Z"
   },
   {
    "duration": 138,
    "start_time": "2021-07-22T18:34:45.925Z"
   },
   {
    "duration": 2,
    "start_time": "2021-07-22T18:35:27.233Z"
   },
   {
    "duration": 128,
    "start_time": "2021-07-22T18:35:27.732Z"
   },
   {
    "duration": 3,
    "start_time": "2021-07-22T18:35:32.703Z"
   },
   {
    "duration": 138,
    "start_time": "2021-07-22T18:35:32.976Z"
   },
   {
    "duration": 2,
    "start_time": "2021-07-22T18:35:40.647Z"
   },
   {
    "duration": 95,
    "start_time": "2021-07-22T18:35:46.234Z"
   },
   {
    "duration": 5,
    "start_time": "2021-07-22T19:15:16.976Z"
   },
   {
    "duration": 658,
    "start_time": "2021-07-22T19:15:23.871Z"
   },
   {
    "duration": 1193,
    "start_time": "2021-07-22T19:15:35.034Z"
   },
   {
    "duration": 4,
    "start_time": "2021-07-22T19:15:36.229Z"
   },
   {
    "duration": 247,
    "start_time": "2021-07-22T19:15:36.236Z"
   },
   {
    "duration": 4,
    "start_time": "2021-07-22T19:15:36.485Z"
   },
   {
    "duration": 68,
    "start_time": "2021-07-22T19:15:36.491Z"
   },
   {
    "duration": 3,
    "start_time": "2021-07-22T19:15:36.562Z"
   },
   {
    "duration": 103,
    "start_time": "2021-07-22T19:15:36.567Z"
   },
   {
    "duration": 3,
    "start_time": "2021-07-22T19:15:36.672Z"
   },
   {
    "duration": 79,
    "start_time": "2021-07-22T19:15:36.680Z"
   },
   {
    "duration": 3,
    "start_time": "2021-07-22T19:15:36.762Z"
   },
   {
    "duration": 67,
    "start_time": "2021-07-22T19:15:36.768Z"
   },
   {
    "duration": 3,
    "start_time": "2021-07-22T19:15:36.837Z"
   },
   {
    "duration": 68,
    "start_time": "2021-07-22T19:15:36.842Z"
   },
   {
    "duration": 4,
    "start_time": "2021-07-22T19:15:36.913Z"
   },
   {
    "duration": 627,
    "start_time": "2021-07-22T19:15:36.920Z"
   },
   {
    "duration": 806,
    "start_time": "2021-07-22T19:15:36.744Z"
   },
   {
    "duration": 804,
    "start_time": "2021-07-22T19:15:36.747Z"
   },
   {
    "duration": 800,
    "start_time": "2021-07-22T19:15:36.752Z"
   },
   {
    "duration": 798,
    "start_time": "2021-07-22T19:15:36.755Z"
   },
   {
    "duration": 797,
    "start_time": "2021-07-22T19:15:36.758Z"
   },
   {
    "duration": 775,
    "start_time": "2021-07-22T19:15:36.781Z"
   },
   {
    "duration": 3,
    "start_time": "2021-07-22T19:16:25.132Z"
   },
   {
    "duration": 423,
    "start_time": "2021-07-22T19:16:27.014Z"
   },
   {
    "duration": 3,
    "start_time": "2021-07-22T19:16:46.003Z"
   },
   {
    "duration": 77,
    "start_time": "2021-07-22T19:16:48.324Z"
   },
   {
    "duration": 80,
    "start_time": "2021-07-22T19:17:44.464Z"
   },
   {
    "duration": 4,
    "start_time": "2021-07-22T19:18:03.234Z"
   },
   {
    "duration": 63,
    "start_time": "2021-07-22T19:18:05.603Z"
   },
   {
    "duration": 3,
    "start_time": "2021-07-22T19:18:22.634Z"
   },
   {
    "duration": 86,
    "start_time": "2021-07-22T19:18:24.654Z"
   },
   {
    "duration": 3,
    "start_time": "2021-07-23T01:14:50.051Z"
   },
   {
    "duration": 262,
    "start_time": "2021-07-23T01:14:52.701Z"
   },
   {
    "duration": 616,
    "start_time": "2021-07-23T01:15:01.929Z"
   },
   {
    "duration": 3,
    "start_time": "2021-07-23T01:15:02.546Z"
   },
   {
    "duration": 328,
    "start_time": "2021-07-23T01:15:02.551Z"
   },
   {
    "duration": 3,
    "start_time": "2021-07-23T01:15:02.881Z"
   },
   {
    "duration": 87,
    "start_time": "2021-07-23T01:15:02.885Z"
   },
   {
    "duration": 2,
    "start_time": "2021-07-23T01:15:02.974Z"
   },
   {
    "duration": 107,
    "start_time": "2021-07-23T01:15:02.977Z"
   },
   {
    "duration": 2,
    "start_time": "2021-07-23T01:15:03.086Z"
   },
   {
    "duration": 121,
    "start_time": "2021-07-23T01:15:03.090Z"
   },
   {
    "duration": 3,
    "start_time": "2021-07-23T01:15:03.212Z"
   },
   {
    "duration": 84,
    "start_time": "2021-07-23T01:15:03.216Z"
   },
   {
    "duration": 2,
    "start_time": "2021-07-23T01:15:03.301Z"
   },
   {
    "duration": 79,
    "start_time": "2021-07-23T01:15:03.304Z"
   },
   {
    "duration": 2,
    "start_time": "2021-07-23T01:15:03.385Z"
   },
   {
    "duration": 123,
    "start_time": "2021-07-23T01:15:03.388Z"
   },
   {
    "duration": 2,
    "start_time": "2021-07-23T01:15:03.513Z"
   },
   {
    "duration": 80,
    "start_time": "2021-07-23T01:15:03.517Z"
   },
   {
    "duration": 2,
    "start_time": "2021-07-23T01:15:03.599Z"
   },
   {
    "duration": 82,
    "start_time": "2021-07-23T01:15:03.602Z"
   },
   {
    "duration": 3,
    "start_time": "2021-07-23T01:15:03.685Z"
   },
   {
    "duration": 140,
    "start_time": "2021-07-23T01:15:03.689Z"
   },
   {
    "duration": 2,
    "start_time": "2021-07-23T01:15:35.070Z"
   },
   {
    "duration": 213,
    "start_time": "2021-07-23T01:15:37.939Z"
   },
   {
    "duration": 3,
    "start_time": "2021-07-23T01:17:01.279Z"
   },
   {
    "duration": 176,
    "start_time": "2021-07-23T01:17:02.968Z"
   },
   {
    "duration": 3,
    "start_time": "2021-07-23T01:18:22.219Z"
   },
   {
    "duration": 106,
    "start_time": "2021-07-23T01:18:24.499Z"
   },
   {
    "duration": 3,
    "start_time": "2021-07-23T01:27:32.688Z"
   },
   {
    "duration": 1039,
    "start_time": "2021-07-23T01:27:34.988Z"
   },
   {
    "duration": 3,
    "start_time": "2021-07-23T01:28:06.448Z"
   },
   {
    "duration": 976,
    "start_time": "2021-07-23T01:28:08.289Z"
   },
   {
    "duration": 2,
    "start_time": "2021-07-23T01:28:28.309Z"
   },
   {
    "duration": 1053,
    "start_time": "2021-07-23T01:28:30.449Z"
   },
   {
    "duration": 3,
    "start_time": "2021-07-23T01:28:46.588Z"
   },
   {
    "duration": 126,
    "start_time": "2021-07-23T01:28:48.039Z"
   },
   {
    "duration": 3,
    "start_time": "2021-07-23T01:29:18.448Z"
   },
   {
    "duration": 969,
    "start_time": "2021-07-23T01:29:20.169Z"
   },
   {
    "duration": 3,
    "start_time": "2021-07-23T01:30:59.028Z"
   },
   {
    "duration": 1082,
    "start_time": "2021-07-23T01:31:00.769Z"
   },
   {
    "duration": 75,
    "start_time": "2021-07-23T01:34:25.907Z"
   },
   {
    "duration": 3,
    "start_time": "2021-07-23T01:35:01.397Z"
   },
   {
    "duration": 85,
    "start_time": "2021-07-23T01:35:03.477Z"
   },
   {
    "duration": 3,
    "start_time": "2021-07-23T01:35:35.527Z"
   },
   {
    "duration": 128,
    "start_time": "2021-07-23T01:35:37.417Z"
   },
   {
    "duration": 176,
    "start_time": "2021-07-23T01:35:56.427Z"
   },
   {
    "duration": 2,
    "start_time": "2021-07-23T01:37:53.357Z"
   },
   {
    "duration": 107,
    "start_time": "2021-07-23T01:37:55.757Z"
   },
   {
    "duration": 3,
    "start_time": "2021-07-23T01:40:13.877Z"
   },
   {
    "duration": 105,
    "start_time": "2021-07-23T01:40:16.087Z"
   },
   {
    "duration": 2,
    "start_time": "2021-07-23T01:41:19.207Z"
   },
   {
    "duration": 103,
    "start_time": "2021-07-23T01:41:20.957Z"
   },
   {
    "duration": 3,
    "start_time": "2021-07-23T02:15:58.169Z"
   },
   {
    "duration": 107,
    "start_time": "2021-07-23T02:15:59.889Z"
   },
   {
    "duration": 2,
    "start_time": "2021-07-23T02:16:55.659Z"
   },
   {
    "duration": 179,
    "start_time": "2021-07-23T02:16:57.529Z"
   },
   {
    "duration": 2,
    "start_time": "2021-07-23T02:18:06.779Z"
   },
   {
    "duration": 331,
    "start_time": "2021-07-23T02:18:10.010Z"
   },
   {
    "duration": 3,
    "start_time": "2021-07-23T02:18:29.409Z"
   },
   {
    "duration": 102,
    "start_time": "2021-07-23T02:18:31.420Z"
   },
   {
    "duration": 3,
    "start_time": "2021-07-23T02:19:03.527Z"
   },
   {
    "duration": 3,
    "start_time": "2021-07-23T02:19:06.527Z"
   },
   {
    "duration": 125,
    "start_time": "2021-07-23T02:19:08.088Z"
   },
   {
    "duration": 3,
    "start_time": "2021-07-23T02:19:22.087Z"
   },
   {
    "duration": 184,
    "start_time": "2021-07-23T02:19:23.837Z"
   },
   {
    "duration": 3,
    "start_time": "2021-07-23T02:19:36.827Z"
   },
   {
    "duration": 155,
    "start_time": "2021-07-23T02:19:40.887Z"
   },
   {
    "duration": 3,
    "start_time": "2021-07-23T02:19:48.218Z"
   },
   {
    "duration": 169,
    "start_time": "2021-07-23T02:19:51.127Z"
   },
   {
    "duration": 3,
    "start_time": "2021-07-23T02:20:41.687Z"
   },
   {
    "duration": 134,
    "start_time": "2021-07-23T02:20:43.647Z"
   },
   {
    "duration": 129,
    "start_time": "2021-07-23T02:21:21.687Z"
   },
   {
    "duration": 151,
    "start_time": "2021-07-23T02:21:23.917Z"
   },
   {
    "duration": 2,
    "start_time": "2021-07-23T02:21:33.568Z"
   },
   {
    "duration": 80,
    "start_time": "2021-07-23T02:21:35.848Z"
   },
   {
    "duration": 2,
    "start_time": "2021-07-23T02:21:51.298Z"
   },
   {
    "duration": 75,
    "start_time": "2021-07-23T02:21:55.828Z"
   },
   {
    "duration": 3,
    "start_time": "2021-07-23T02:22:07.207Z"
   },
   {
    "duration": 126,
    "start_time": "2021-07-23T02:22:09.077Z"
   },
   {
    "duration": 2,
    "start_time": "2021-07-23T02:25:56.267Z"
   },
   {
    "duration": 76,
    "start_time": "2021-07-23T02:25:57.779Z"
   },
   {
    "duration": 3,
    "start_time": "2021-07-23T02:27:16.089Z"
   },
   {
    "duration": 137,
    "start_time": "2021-07-23T02:27:17.709Z"
   },
   {
    "duration": 2,
    "start_time": "2021-07-23T02:29:39.148Z"
   },
   {
    "duration": 188,
    "start_time": "2021-07-23T02:29:41.098Z"
   },
   {
    "duration": 140,
    "start_time": "2021-07-23T02:30:49.513Z"
   },
   {
    "duration": 3,
    "start_time": "2021-07-23T02:31:34.007Z"
   },
   {
    "duration": 138,
    "start_time": "2021-07-23T02:31:35.518Z"
   },
   {
    "duration": 2,
    "start_time": "2021-07-23T02:32:37.858Z"
   },
   {
    "duration": 178,
    "start_time": "2021-07-23T02:32:39.478Z"
   },
   {
    "duration": 3,
    "start_time": "2021-07-23T02:33:23.528Z"
   },
   {
    "duration": 196,
    "start_time": "2021-07-23T02:33:25.928Z"
   },
   {
    "duration": 3,
    "start_time": "2021-07-23T02:35:20.028Z"
   },
   {
    "duration": 170,
    "start_time": "2021-07-23T02:35:21.758Z"
   },
   {
    "duration": 3,
    "start_time": "2021-07-23T02:35:39.448Z"
   },
   {
    "duration": 182,
    "start_time": "2021-07-23T02:35:42.238Z"
   },
   {
    "duration": 3,
    "start_time": "2021-07-23T02:35:59.313Z"
   },
   {
    "duration": 127,
    "start_time": "2021-07-23T02:36:00.619Z"
   },
   {
    "duration": 127,
    "start_time": "2021-07-23T02:36:03.768Z"
   },
   {
    "duration": 3,
    "start_time": "2021-07-23T02:36:10.288Z"
   },
   {
    "duration": 173,
    "start_time": "2021-07-23T02:36:12.248Z"
   },
   {
    "duration": 3,
    "start_time": "2021-07-23T02:36:21.088Z"
   },
   {
    "duration": 191,
    "start_time": "2021-07-23T02:36:22.808Z"
   },
   {
    "duration": 2,
    "start_time": "2021-07-23T02:36:50.849Z"
   },
   {
    "duration": 207,
    "start_time": "2021-07-23T02:36:52.729Z"
   },
   {
    "duration": 137,
    "start_time": "2021-07-23T02:37:36.548Z"
   },
   {
    "duration": 3,
    "start_time": "2021-07-23T02:37:38.358Z"
   },
   {
    "duration": 176,
    "start_time": "2021-07-23T02:37:40.038Z"
   }
  ],
  "kernelspec": {
   "display_name": "Python 3",
   "language": "python",
   "name": "python3"
  },
  "language_info": {
   "codemirror_mode": {
    "name": "ipython",
    "version": 3
   },
   "file_extension": ".py",
   "mimetype": "text/x-python",
   "name": "python",
   "nbconvert_exporter": "python",
   "pygments_lexer": "ipython3",
   "version": "3.8.3"
  },
  "toc": {
   "base_numbering": 1,
   "nav_menu": {},
   "number_sections": true,
   "sideBar": true,
   "skip_h1_title": true,
   "title_cell": "Table of Contents",
   "title_sidebar": "Contents",
   "toc_cell": false,
   "toc_position": {},
   "toc_section_display": true,
   "toc_window_display": false
  }
 },
 "nbformat": 4,
 "nbformat_minor": 4
}
