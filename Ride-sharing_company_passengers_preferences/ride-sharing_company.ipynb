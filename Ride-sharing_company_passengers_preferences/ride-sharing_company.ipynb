{
 "cells": [
  {
   "cell_type": "markdown",
   "metadata": {},
   "source": [
    "### Short introduction:"
   ]
  },
  {
   "cell_type": "markdown",
   "metadata": {},
   "source": [
    "I have been given two files, first file with the number of rides for each taxi company on November 15-16, 2017 and second file with the average number of rides that ended in each neighborhood in November 2017. I have been asked for:\n",
    " * [import the files](#import)\n",
    "study the data they contain,\n",
    "make sure the data types are correct.\n",
    " * [identify the top 10 neighborhoods in terms of drop-offs](#indentify)\n",
    "make graphs: taxi companies and number of rides, top 10 neighborhoods by number of dropoffs,\n",
    "draw conclusions based on each graph and explain the results.\n",
    " * [Test the hypothesis:](#test)\n",
    "\"The average duration of rides from the Loop to O'Hare International Airport changes on rainy Saturdays.\""
   ]
  },
  {
   "cell_type": "markdown",
   "metadata": {},
   "source": [
    "### Exploratory data analysis: <a class=\"anchor\" id=\"import\"></a>"
   ]
  },
  {
   "cell_type": "code",
   "execution_count": 2,
   "metadata": {},
   "outputs": [
    {
     "name": "stdout",
     "output_type": "stream",
     "text": [
      "                      company_name  trips_amount\n",
      "0                        Flash Cab         19558\n",
      "1        Taxi Affiliation Services         11422\n",
      "2                Medallion Leasing         10367\n",
      "3                       Yellow Cab          9888\n",
      "4  Taxi Affiliation Service Yellow          9299\n",
      "                     company_name  trips_amount\n",
      "59   4053 - 40193 Adwar H. Nikola             7\n",
      "60        2733 - 74600 Benny Jona             7\n",
      "61  5874 - 73628 Sergey Cab Corp.             5\n",
      "62     2241 - 44667 - Felman Corp             3\n",
      "63    3556 - 36214 RC Andrews Cab             2\n",
      "<class 'pandas.core.frame.DataFrame'>\n",
      "RangeIndex: 64 entries, 0 to 63\n",
      "Data columns (total 2 columns):\n",
      "company_name    64 non-null object\n",
      "trips_amount    64 non-null int64\n",
      "dtypes: int64(1), object(1)\n",
      "memory usage: 1.1+ KB\n",
      "None\n",
      "       trips_amount\n",
      "count     64.000000\n",
      "mean    2145.484375\n",
      "std     3812.310186\n",
      "min        2.000000\n",
      "25%       20.750000\n",
      "50%      178.500000\n",
      "75%     2106.500000\n",
      "max    19558.000000\n",
      "0\n",
      "64\n"
     ]
    }
   ],
   "source": [
    "import pandas as pd\n",
    "df_company = pd.read_csv('/datasets/project_sql_result_01.csv')\n",
    "print(df_company.head())\n",
    "print(df_company.tail())\n",
    "print(df_company.info())\n",
    "print(df_company.describe())\n",
    "dup = df_company.duplicated().sum()\n",
    "print(dup)\n",
    "print(len(df_company))"
   ]
  },
  {
   "cell_type": "code",
   "execution_count": 3,
   "metadata": {},
   "outputs": [
    {
     "name": "stdout",
     "output_type": "stream",
     "text": [
      "  dropoff_location_name  average_trips\n",
      "0                  Loop   10727.466667\n",
      "1           River North    9523.666667\n",
      "2         Streeterville    6664.666667\n",
      "3             West Loop    5163.666667\n",
      "4                O'Hare    2546.900000\n",
      "   dropoff_location_name  average_trips\n",
      "89       Mount Greenwood       3.137931\n",
      "90             Hegewisch       3.117647\n",
      "91              Burnside       2.333333\n",
      "92             East Side       1.961538\n",
      "93             Riverdale       1.800000\n",
      "<class 'pandas.core.frame.DataFrame'>\n",
      "RangeIndex: 94 entries, 0 to 93\n",
      "Data columns (total 2 columns):\n",
      "dropoff_location_name    94 non-null object\n",
      "average_trips            94 non-null float64\n",
      "dtypes: float64(1), object(1)\n",
      "memory usage: 1.6+ KB\n",
      "None\n",
      "       average_trips\n",
      "count      94.000000\n",
      "mean      599.953728\n",
      "std      1714.591098\n",
      "min         1.800000\n",
      "25%        14.266667\n",
      "50%        52.016667\n",
      "75%       298.858333\n",
      "max     10727.466667\n",
      "0\n",
      "94\n"
     ]
    }
   ],
   "source": [
    "import pandas as pd\n",
    "df_location = pd.read_csv('/datasets/project_sql_result_04.csv')\n",
    "print(df_location.head())\n",
    "print(df_location.tail())\n",
    "print(df_location.info())\n",
    "print(df_location.describe())\n",
    "dup = df_location.duplicated().sum()\n",
    "print(dup)\n",
    "print(len(df_location))"
   ]
  },
  {
   "cell_type": "markdown",
   "metadata": {},
   "source": [
    "After studying the data I didn't find any missing values, all data types are correct and no duplicates were detected."
   ]
  },
  {
   "cell_type": "markdown",
   "metadata": {},
   "source": [
    "### Identify the top taxi companies and number of rides, 10 neighborhoods in terms of drop-offs and make graphs:<a class=\"anchor\" id=\"indentify\"></a> "
   ]
  },
  {
   "cell_type": "code",
   "execution_count": 4,
   "metadata": {},
   "outputs": [
    {
     "name": "stdout",
     "output_type": "stream",
     "text": [
      "                        company_name  trips_amount\n",
      "9  Blue Ribbon Taxi Association Inc.          5953\n",
      "8          Star North Management LLC          7455\n",
      "7                           Sun Taxi          7701\n",
      "6                       City Service          8448\n",
      "5          Chicago Carriage Cab Corp          9181\n",
      "4    Taxi Affiliation Service Yellow          9299\n",
      "3                         Yellow Cab          9888\n",
      "2                  Medallion Leasing         10367\n",
      "1          Taxi Affiliation Services         11422\n",
      "0                          Flash Cab         19558\n"
     ]
    },
    {
     "data": {
      "image/png": "[encoded data removed]",
      "text/plain": [
       "<Figure size 1080x504 with 1 Axes>"
      ]
     },
     "metadata": {
      "needs_background": "light"
     },
     "output_type": "display_data"
    }
   ],
   "source": [
    "top_ten_companies = df_company.sort_values(by='trips_amount')\n",
    "print(top_ten_companies.tail(10))\n",
    "import matplotlib.pyplot as plt\n",
    "top_ten_companies.tail(10).plot('company_name', 'trips_amount', kind = 'bar', figsize=(15, 7))\n",
    "plt.title('Top 10 dropoffs locations')\n",
    "plt.ylabel('Trips mount')\n",
    "plt.grid()\n",
    "plt.show()"
   ]
  },
  {
   "cell_type": "markdown",
   "metadata": {},
   "source": [
    "There is significant gap between the first and the second place of taxi companies and the number of rides, the Flash Carb taxi company is an obvious leader with the biggest trips amount of 19558 rides wich is almost double from second place of Taxi Affiliation Services company with 11422 rides.The difference between second and third place is not substantial (around 1000 rides) compared to the first place, which means that companies on second and third place can be switched from time to time but the Flash Carb company looks like to stay for long time on top."
   ]
  },
  {
   "cell_type": "code",
   "execution_count": 5,
   "metadata": {},
   "outputs": [
    {
     "name": "stdout",
     "output_type": "stream",
     "text": [
      "  dropoff_location_name  average_trips\n",
      "9    Sheffield & DePaul    1259.766667\n",
      "8            Gold Coast    1364.233333\n",
      "7         Museum Campus    1510.000000\n",
      "6            Grant Park    2068.533333\n",
      "5             Lake View    2420.966667\n",
      "4                O'Hare    2546.900000\n",
      "3             West Loop    5163.666667\n",
      "2         Streeterville    6664.666667\n",
      "1           River North    9523.666667\n",
      "0                  Loop   10727.466667\n"
     ]
    },
    {
     "data": {
      "image/png": "[encoded data removed]",
      "text/plain": [
       "<Figure size 1080x504 with 1 Axes>"
      ]
     },
     "metadata": {
      "needs_background": "light"
     },
     "output_type": "display_data"
    }
   ],
   "source": [
    "top_ten_locations = df_location.sort_values(by='average_trips')\n",
    "print(top_ten_locations.tail(10))\n",
    "import matplotlib.pyplot as plt\n",
    "top_ten_locations.tail(10).plot('dropoff_location_name', 'average_trips', kind = 'bar', figsize=(15, 7), color='green')\n",
    "plt.title('Top 10 Companies')\n",
    "plt.ylabel('Avg Trips')\n",
    "plt.grid()\n",
    "plt.show()"
   ]
  },
  {
   "cell_type": "markdown",
   "metadata": {},
   "source": [
    "The most drop off locations are Loop and River North wich I can suppose located far away from center."
   ]
  },
  {
   "cell_type": "code",
   "execution_count": 6,
   "metadata": {},
   "outputs": [
    {
     "name": "stdout",
     "output_type": "stream",
     "text": [
      "              start_ts weather_conditions  duration_seconds\n",
      "0  2017-11-25 16:00:00               Good            2410.0\n",
      "1  2017-11-25 14:00:00               Good            1920.0\n",
      "2  2017-11-25 12:00:00               Good            1543.0\n",
      "3  2017-11-04 10:00:00               Good            2512.0\n",
      "4  2017-11-11 07:00:00               Good            1440.0\n",
      "                 start_ts weather_conditions  duration_seconds\n",
      "1063  2017-11-25 11:00:00               Good               0.0\n",
      "1064  2017-11-11 10:00:00               Good            1318.0\n",
      "1065  2017-11-11 13:00:00               Good            2100.0\n",
      "1066  2017-11-11 08:00:00               Good            1380.0\n",
      "1067  2017-11-04 16:00:00                Bad            2834.0\n",
      "<class 'pandas.core.frame.DataFrame'>\n",
      "RangeIndex: 1068 entries, 0 to 1067\n",
      "Data columns (total 3 columns):\n",
      "start_ts              1068 non-null object\n",
      "weather_conditions    1068 non-null object\n",
      "duration_seconds      1068 non-null float64\n",
      "dtypes: float64(1), object(2)\n",
      "memory usage: 25.2+ KB\n",
      "None\n",
      "       duration_seconds\n",
      "count       1068.000000\n",
      "mean        2071.731273\n",
      "std          769.461125\n",
      "min            0.000000\n",
      "25%         1438.250000\n",
      "50%         1980.000000\n",
      "75%         2580.000000\n",
      "max         7440.000000\n",
      "197\n",
      "1068\n",
      "<class 'pandas.core.frame.DataFrame'>\n",
      "RangeIndex: 1068 entries, 0 to 1067\n",
      "Data columns (total 3 columns):\n",
      "start_ts              1068 non-null datetime64[ns]\n",
      "weather_conditions    1068 non-null object\n",
      "duration_seconds      1068 non-null float64\n",
      "dtypes: datetime64[ns](1), float64(1), object(1)\n",
      "memory usage: 25.2+ KB\n",
      "None\n",
      "             start_ts weather_conditions  duration_seconds\n",
      "0 2017-11-25 16:00:00               Good            2410.0\n",
      "1 2017-11-25 14:00:00               Good            1920.0\n",
      "2 2017-11-25 12:00:00               Good            1543.0\n",
      "3 2017-11-04 10:00:00               Good            2512.0\n",
      "4 2017-11-11 07:00:00               Good            1440.0\n"
     ]
    }
   ],
   "source": [
    "import pandas as pd\n",
    "df_trips = pd.read_csv('/datasets/project_sql_result_07.csv')\n",
    "print(df_trips.head())\n",
    "print(df_trips.tail())\n",
    "print(df_trips.info())\n",
    "df_trips['start_ts'] = pd.to_datetime(df_trips['start_ts'])\n",
    "print(df_trips.describe())\n",
    "dup = df_trips.duplicated().sum()\n",
    "print(dup)\n",
    "print(len(df_trips))\n",
    "print(df_trips.info())\n",
    "print(df_trips.head())"
   ]
  },
  {
   "cell_type": "markdown",
   "metadata": {},
   "source": [
    "After studying the data I didn't find any missing values, I changed data type of start_ts column to datetime type couse its more appropriate but in this case it won't effect any farther analysis, no duplicates were detected."
   ]
  },
  {
   "cell_type": "markdown",
   "metadata": {},
   "source": [
    "### Test the hypothesis:<a class=\"anchor\" id=\"test\"></a> \n",
    "##### \"The average duration of rides from the Loop to O'Hare International Airport changes on rainy Saturdays.\""
   ]
  },
  {
   "cell_type": "markdown",
   "metadata": {},
   "source": [
    "H0 hypothesis that the duration of rides from the Loop to O'Hare International Airport on rainy Saturdays and on good weather conditions are equal.<br>\n",
    "H1 hypothesis that the average duration of rides from the Loop to O'Hare International Airport changes on rainy Saturdays.<br>\n",
    "Alpha level for every statistical test sets for 5%.\n",
    "\n",
    "\n",
    "In order to identify if two sample groups have equal variance I used the Leven's test.<br>\n",
    "Hypotheses for the Leven's test:\n",
    "<br>H0:The sample groups have equal variance\n",
    "<br>H1:The sample groups do not have equal variance"
   ]
  },
  {
   "cell_type": "code",
   "execution_count": 7,
   "metadata": {},
   "outputs": [
    {
     "name": "stdout",
     "output_type": "stream",
     "text": [
      "The average duration of rides on good saturdays 1999.68\n",
      "The average duration of rides on rainy saturdays 2427.21\n",
      "p-value:  0.3968505113995001\n",
      "We can't reject the null hypothesis, the sample groups have equal variance\n",
      "p-value:  6.517970327099473e-12\n",
      "We reject the null hypothesis\n"
     ]
    }
   ],
   "source": [
    "from scipy import stats as st\n",
    "\n",
    "good_saturdays = df_trips[df_trips['weather_conditions'] == 'Good']\n",
    "\n",
    "rainy_saturdays = df_trips[df_trips['weather_conditions'] == 'Bad']\n",
    "\n",
    "print('The average duration of rides on good saturdays {:0.2f}'.format(good_saturdays['duration_seconds'].mean()))\n",
    "\n",
    "print('The average duration of rides on rainy saturdays {:0.2f}'.format(rainy_saturdays['duration_seconds'].mean()))\n",
    "\n",
    "alpha = 0.05 # critical statistical significance\n",
    "\n",
    "levene_results = st.levene(good_saturdays['duration_seconds'], rainy_saturdays['duration_seconds'], center='mean')\n",
    "\n",
    "print('p-value: ', levene_results.pvalue)\n",
    "\n",
    "if (levene_results.pvalue < alpha):\n",
    "        print(\"We reject the null hypothesis, the sample groups do not have equal variance\")\n",
    "else:\n",
    "        print(\"We can't reject the null hypothesis, the sample groups have equal variance\") \n",
    "\n",
    "results = st.ttest_ind(\n",
    "        good_saturdays['duration_seconds'], \n",
    "        rainy_saturdays['duration_seconds'],\n",
    "        )\n",
    "\n",
    "print('p-value: ', results.pvalue)\n",
    "\n",
    "if (results.pvalue < alpha):\n",
    "        print(\"We reject the null hypothesis\")\n",
    "else:\n",
    "        print(\"We can't reject the null hypothesis\") "
   ]
  },
  {
   "cell_type": "markdown",
   "metadata": {},
   "source": [
    "### Conclusions:"
   ]
  },
  {
   "cell_type": "markdown",
   "metadata": {},
   "source": [
    "First I used Levene's test to determine if the two sample groups have equal variance, null hypothesis is that the groups have equal variance, according to analysis we can't reject the null hypothesis. Then in order to test the hypothes if the average duration of rides from the Loop to O'Hare International Airport changes on rainy Saturdays I applied the stats.ttest_ind method, equal_var=True set by default. The null hypothesis is that the average duration of rides are equal on rainy Saturdays.\n",
    "According to analysis we reject the null hypothesis, that's means that with probability of 95% we can conclude that average time of ride from the Loop to O'Hare International Airport on rainy Saturdays is not same as when it's not rainy. After I calculated the average time of both cases I suppose that the average time of ride is longer on rainy days in general and it's can be explained by worst drive conditions.\n",
    "Thank you for reading."
   ]
  }
 ],
 "metadata": {
  "kernelspec": {
   "display_name": "Python 3",
   "language": "python",
   "name": "python3"
  },
  "language_info": {
   "codemirror_mode": {
    "name": "ipython",
    "version": 3
   },
   "file_extension": ".py",
   "mimetype": "text/x-python",
   "name": "python",
   "nbconvert_exporter": "python",
   "pygments_lexer": "ipython3",
   "version": "3.8.3"
  },
  "toc": {
   "base_numbering": 1,
   "nav_menu": {},
   "number_sections": true,
   "sideBar": true,
   "skip_h1_title": true,
   "title_cell": "Table of Contents",
   "title_sidebar": "Contents",
   "toc_cell": false,
   "toc_position": {},
   "toc_section_display": true,
   "toc_window_display": false
  }
 },
 "nbformat": 4,
 "nbformat_minor": 4
}
