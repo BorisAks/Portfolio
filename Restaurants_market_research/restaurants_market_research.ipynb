{
 "cells": [
  {
   "cell_type": "markdown",
   "metadata": {},
   "source": [
    "<div style=\"border:solid green 2px; padding: 20px\">\n",
    "<b>Hello, Boris!</b>\n",
    "\n",
    "Grigoriy is here again, I've reviewed your previous project :)\n",
    "Hi Grigoriy I know it very well this is the third project actually ;) \n",
    "    \n",
    "\n",
    "You can find my comments in <font color='green'>green</font>, <font color='orange'>yellow</font> or <font color='red'>red</font> boxes like this:\n",
    "\n",
    "<div class=\"alert alert-success\">\n",
    "<b>Reviewer's comment:</b> if everything is done succesfully\n",
    "</div>\n",
    "\n",
    "<div class=\"alert alert-warning\">\n",
    "<b>Reviewer's comment: </b> if I can give some recommendations\n",
    "</div>\n",
    "\n",
    "<div class=\"alert alert-danger\">\n",
    "<b>Reviewer's comment:</b> if the block requires some corrections. Work can't be accepted with the red comments.\n",
    "</div>\n",
    "\n",
    "    \n",
    "Let's work on the project in dialogue: if you change something in the project or respond to my comments, write about it. It will be easier for me to track the changes if you highlight your comments:\n",
    "    \n",
    "<div class=\"alert alert-info\"> <b>Student's comment:</b> For example like this.</div>"
   ]
  },
  {
   "cell_type": "markdown",
   "metadata": {},
   "source": [
    "### <font color='orange'>General feedback</font>\n",
    "Thank you for sending your project.  It's clear that a lot of work has been put into it, your coding style is really good. Even though you have to correct some things in your project, but don't worry, you've got this  💪 \n",
    "\n",
    "**Update**:<br>\n",
    "Thank you for the update, your project has been accepted."
   ]
  },
  {
   "cell_type": "markdown",
   "metadata": {},
   "source": [
    "<div class=\"alert alert-warning\">\n",
    "<b>Reviewer's comment: </b> Additional links:\n",
    "    <ul>\n",
    "        <li>Barplot vs pie chart overview: <a>https://chartio.com/learn/charts/how-to-choose-pie-chart-vs-bar-chart/</a></li>\n",
    "        <li>Pandas profilier: <a>https://github.com/pandas-profiling/pandas-profiling</a></li>\n",
    "        <li>Top 50 matplotlib visualizations: <a>https://www.machinelearningplus.com/plots/top-50-matplotlib-visualizations-the-master-plots-python/</a></li>\n",
    "    </ul>\n",
    "</div>"
   ]
  },
  {
   "cell_type": "markdown",
   "metadata": {},
   "source": [
    "---"
   ]
  },
  {
   "cell_type": "markdown",
   "metadata": {},
   "source": [
    "<div class=\"alert alert-warning\">\n",
    "<b>Reviewer's comment: </b> Small tip: you can improve your work by adding a short introduction and research goals.\n",
    "</div>"
   ]
  },
  {
   "cell_type": "code",
   "execution_count": 1,
   "metadata": {},
   "outputs": [],
   "source": [
    "import pandas as pd\n",
    "import numpy as np\n",
    "import matplotlib.pyplot as plt\n",
    "import seaborn as sns\n",
    "from plotly import graph_objects as go \n",
    "import plotly.express as px"
   ]
  },
  {
   "cell_type": "code",
   "execution_count": 2,
   "metadata": {},
   "outputs": [
    {
     "name": "stdout",
     "output_type": "stream",
     "text": [
      "Defaulting to user installation because normal site-packages is not writeable\n",
      "Requirement already satisfied: usaddress in /home/jovyan/.local/lib/python3.7/site-packages (0.5.10)\n",
      "Requirement already satisfied: python-crfsuite>=0.7 in /home/jovyan/.local/lib/python3.7/site-packages (from usaddress) (0.9.7)\n",
      "Requirement already satisfied: probableparsing in /home/jovyan/.local/lib/python3.7/site-packages (from usaddress) (0.0.1)\n",
      "Requirement already satisfied: future>=0.14 in /opt/conda/lib/python3.7/site-packages (from usaddress) (0.18.2)\n"
     ]
    }
   ],
   "source": [
    "!pip install usaddress"
   ]
  },
  {
   "cell_type": "code",
   "execution_count": 3,
   "metadata": {},
   "outputs": [],
   "source": [
    "import usaddress"
   ]
  },
  {
   "cell_type": "markdown",
   "metadata": {},
   "source": [
    "##### Download the data and prepare it for analysis"
   ]
  },
  {
   "cell_type": "code",
   "execution_count": 4,
   "metadata": {},
   "outputs": [
    {
     "data": {
      "text/html": [
       "<div>\n",
       "<style scoped>\n",
       "    .dataframe tbody tr th:only-of-type {\n",
       "        vertical-align: middle;\n",
       "    }\n",
       "\n",
       "    .dataframe tbody tr th {\n",
       "        vertical-align: top;\n",
       "    }\n",
       "\n",
       "    .dataframe thead th {\n",
       "        text-align: right;\n",
       "    }\n",
       "</style>\n",
       "<table border=\"1\" class=\"dataframe\">\n",
       "  <thead>\n",
       "    <tr style=\"text-align: right;\">\n",
       "      <th></th>\n",
       "      <th>id</th>\n",
       "      <th>object_name</th>\n",
       "      <th>address</th>\n",
       "      <th>chain</th>\n",
       "      <th>object_type</th>\n",
       "      <th>number</th>\n",
       "    </tr>\n",
       "  </thead>\n",
       "  <tbody>\n",
       "    <tr>\n",
       "      <td>0</td>\n",
       "      <td>11786</td>\n",
       "      <td>HABITAT COFFEE SHOP</td>\n",
       "      <td>3708 N EAGLE ROCK BLVD</td>\n",
       "      <td>False</td>\n",
       "      <td>Cafe</td>\n",
       "      <td>26</td>\n",
       "    </tr>\n",
       "    <tr>\n",
       "      <td>1</td>\n",
       "      <td>11787</td>\n",
       "      <td>REILLY'S</td>\n",
       "      <td>100 WORLD WAY # 120</td>\n",
       "      <td>False</td>\n",
       "      <td>Restaurant</td>\n",
       "      <td>9</td>\n",
       "    </tr>\n",
       "    <tr>\n",
       "      <td>2</td>\n",
       "      <td>11788</td>\n",
       "      <td>STREET CHURROS</td>\n",
       "      <td>6801 HOLLYWOOD BLVD # 253</td>\n",
       "      <td>False</td>\n",
       "      <td>Fast Food</td>\n",
       "      <td>20</td>\n",
       "    </tr>\n",
       "    <tr>\n",
       "      <td>3</td>\n",
       "      <td>11789</td>\n",
       "      <td>TRINITI ECHO PARK</td>\n",
       "      <td>1814 W SUNSET BLVD</td>\n",
       "      <td>False</td>\n",
       "      <td>Restaurant</td>\n",
       "      <td>22</td>\n",
       "    </tr>\n",
       "    <tr>\n",
       "      <td>4</td>\n",
       "      <td>11790</td>\n",
       "      <td>POLLEN</td>\n",
       "      <td>2100 ECHO PARK AVE</td>\n",
       "      <td>False</td>\n",
       "      <td>Restaurant</td>\n",
       "      <td>20</td>\n",
       "    </tr>\n",
       "  </tbody>\n",
       "</table>\n",
       "</div>"
      ],
      "text/plain": [
       "      id          object_name                    address  chain object_type  \\\n",
       "0  11786  HABITAT COFFEE SHOP     3708 N EAGLE ROCK BLVD  False        Cafe   \n",
       "1  11787             REILLY'S        100 WORLD WAY # 120  False  Restaurant   \n",
       "2  11788       STREET CHURROS  6801 HOLLYWOOD BLVD # 253  False   Fast Food   \n",
       "3  11789    TRINITI ECHO PARK         1814 W SUNSET BLVD  False  Restaurant   \n",
       "4  11790               POLLEN         2100 ECHO PARK AVE  False  Restaurant   \n",
       "\n",
       "   number  \n",
       "0      26  \n",
       "1       9  \n",
       "2      20  \n",
       "3      22  \n",
       "4      20  "
      ]
     },
     "metadata": {},
     "output_type": "display_data"
    },
    {
     "data": {
      "text/html": [
       "<div>\n",
       "<style scoped>\n",
       "    .dataframe tbody tr th:only-of-type {\n",
       "        vertical-align: middle;\n",
       "    }\n",
       "\n",
       "    .dataframe tbody tr th {\n",
       "        vertical-align: top;\n",
       "    }\n",
       "\n",
       "    .dataframe thead th {\n",
       "        text-align: right;\n",
       "    }\n",
       "</style>\n",
       "<table border=\"1\" class=\"dataframe\">\n",
       "  <thead>\n",
       "    <tr style=\"text-align: right;\">\n",
       "      <th></th>\n",
       "      <th>id</th>\n",
       "      <th>object_name</th>\n",
       "      <th>address</th>\n",
       "      <th>chain</th>\n",
       "      <th>object_type</th>\n",
       "      <th>number</th>\n",
       "    </tr>\n",
       "  </thead>\n",
       "  <tbody>\n",
       "    <tr>\n",
       "      <td>9646</td>\n",
       "      <td>21432</td>\n",
       "      <td>HALL OF JUSTICE</td>\n",
       "      <td>217 W TEMPLE AVE</td>\n",
       "      <td>False</td>\n",
       "      <td>Restaurant</td>\n",
       "      <td>122</td>\n",
       "    </tr>\n",
       "    <tr>\n",
       "      <td>9647</td>\n",
       "      <td>21433</td>\n",
       "      <td>FIN-MELROSE</td>\n",
       "      <td>5750 MELROSE AVE</td>\n",
       "      <td>False</td>\n",
       "      <td>Restaurant</td>\n",
       "      <td>93</td>\n",
       "    </tr>\n",
       "    <tr>\n",
       "      <td>9648</td>\n",
       "      <td>21434</td>\n",
       "      <td>JUICY WINGZ</td>\n",
       "      <td>6741 HOLLYWOOD BLVD</td>\n",
       "      <td>True</td>\n",
       "      <td>Fast Food</td>\n",
       "      <td>15</td>\n",
       "    </tr>\n",
       "    <tr>\n",
       "      <td>9649</td>\n",
       "      <td>21435</td>\n",
       "      <td>MEDIDATE COFFEE</td>\n",
       "      <td>548 S SPRING ST STE 100</td>\n",
       "      <td>False</td>\n",
       "      <td>Cafe</td>\n",
       "      <td>6</td>\n",
       "    </tr>\n",
       "    <tr>\n",
       "      <td>9650</td>\n",
       "      <td>21436</td>\n",
       "      <td>CAFE SPROUTS</td>\n",
       "      <td>1300 S SAN PEDRO ST STE 111</td>\n",
       "      <td>True</td>\n",
       "      <td>Restaurant</td>\n",
       "      <td>19</td>\n",
       "    </tr>\n",
       "  </tbody>\n",
       "</table>\n",
       "</div>"
      ],
      "text/plain": [
       "         id      object_name                      address  chain object_type  \\\n",
       "9646  21432  HALL OF JUSTICE             217 W TEMPLE AVE  False  Restaurant   \n",
       "9647  21433      FIN-MELROSE             5750 MELROSE AVE  False  Restaurant   \n",
       "9648  21434      JUICY WINGZ          6741 HOLLYWOOD BLVD   True   Fast Food   \n",
       "9649  21435  MEDIDATE COFFEE      548 S SPRING ST STE 100  False        Cafe   \n",
       "9650  21436     CAFE SPROUTS  1300 S SAN PEDRO ST STE 111   True  Restaurant   \n",
       "\n",
       "      number  \n",
       "9646     122  \n",
       "9647      93  \n",
       "9648      15  \n",
       "9649       6  \n",
       "9650      19  "
      ]
     },
     "metadata": {},
     "output_type": "display_data"
    },
    {
     "name": "stdout",
     "output_type": "stream",
     "text": [
      "<class 'pandas.core.frame.DataFrame'>\n",
      "RangeIndex: 9651 entries, 0 to 9650\n",
      "Data columns (total 6 columns):\n",
      "id             9651 non-null int64\n",
      "object_name    9651 non-null object\n",
      "address        9651 non-null object\n",
      "chain          9648 non-null object\n",
      "object_type    9651 non-null object\n",
      "number         9651 non-null int64\n",
      "dtypes: int64(2), object(4)\n",
      "memory usage: 452.5+ KB\n"
     ]
    },
    {
     "data": {
      "text/plain": [
       "None"
      ]
     },
     "metadata": {},
     "output_type": "display_data"
    },
    {
     "data": {
      "text/html": [
       "<div>\n",
       "<style scoped>\n",
       "    .dataframe tbody tr th:only-of-type {\n",
       "        vertical-align: middle;\n",
       "    }\n",
       "\n",
       "    .dataframe tbody tr th {\n",
       "        vertical-align: top;\n",
       "    }\n",
       "\n",
       "    .dataframe thead th {\n",
       "        text-align: right;\n",
       "    }\n",
       "</style>\n",
       "<table border=\"1\" class=\"dataframe\">\n",
       "  <thead>\n",
       "    <tr style=\"text-align: right;\">\n",
       "      <th></th>\n",
       "      <th>id</th>\n",
       "      <th>number</th>\n",
       "    </tr>\n",
       "  </thead>\n",
       "  <tbody>\n",
       "    <tr>\n",
       "      <td>count</td>\n",
       "      <td>9651.000000</td>\n",
       "      <td>9651.000000</td>\n",
       "    </tr>\n",
       "    <tr>\n",
       "      <td>mean</td>\n",
       "      <td>16611.000000</td>\n",
       "      <td>43.695161</td>\n",
       "    </tr>\n",
       "    <tr>\n",
       "      <td>std</td>\n",
       "      <td>2786.148058</td>\n",
       "      <td>47.622874</td>\n",
       "    </tr>\n",
       "    <tr>\n",
       "      <td>min</td>\n",
       "      <td>11786.000000</td>\n",
       "      <td>1.000000</td>\n",
       "    </tr>\n",
       "    <tr>\n",
       "      <td>25%</td>\n",
       "      <td>14198.500000</td>\n",
       "      <td>14.000000</td>\n",
       "    </tr>\n",
       "    <tr>\n",
       "      <td>50%</td>\n",
       "      <td>16611.000000</td>\n",
       "      <td>27.000000</td>\n",
       "    </tr>\n",
       "    <tr>\n",
       "      <td>75%</td>\n",
       "      <td>19023.500000</td>\n",
       "      <td>46.000000</td>\n",
       "    </tr>\n",
       "    <tr>\n",
       "      <td>max</td>\n",
       "      <td>21436.000000</td>\n",
       "      <td>229.000000</td>\n",
       "    </tr>\n",
       "  </tbody>\n",
       "</table>\n",
       "</div>"
      ],
      "text/plain": [
       "                 id       number\n",
       "count   9651.000000  9651.000000\n",
       "mean   16611.000000    43.695161\n",
       "std     2786.148058    47.622874\n",
       "min    11786.000000     1.000000\n",
       "25%    14198.500000    14.000000\n",
       "50%    16611.000000    27.000000\n",
       "75%    19023.500000    46.000000\n",
       "max    21436.000000   229.000000"
      ]
     },
     "metadata": {},
     "output_type": "display_data"
    },
    {
     "name": "stdout",
     "output_type": "stream",
     "text": [
      "id             0\n",
      "object_name    0\n",
      "address        0\n",
      "chain          3\n",
      "object_type    0\n",
      "number         0\n",
      "dtype: int64\n",
      "0\n"
     ]
    }
   ],
   "source": [
    "data = pd.read_csv('/datasets/rest_data_us.csv')\n",
    "data.columns = data.columns.str.replace(' ', '_').str.lower()\n",
    "display(data.head())\n",
    "display(data.tail())\n",
    "display(data.info())\n",
    "display(data.describe())\n",
    "print(data.isna().sum())\n",
    "print(data.duplicated().sum()) # checking for duplicates\n",
    "data = data.dropna()"
   ]
  },
  {
   "cell_type": "code",
   "execution_count": 5,
   "metadata": {},
   "outputs": [
    {
     "name": "stdout",
     "output_type": "stream",
     "text": [
      "<class 'pandas.core.frame.DataFrame'>\n",
      "Int64Index: 9605 entries, 0 to 9650\n",
      "Data columns (total 6 columns):\n",
      "id             9605 non-null int64\n",
      "object_name    9605 non-null object\n",
      "address        9605 non-null object\n",
      "chain          9605 non-null object\n",
      "object_type    9605 non-null object\n",
      "number         9605 non-null int64\n",
      "dtypes: int64(2), object(4)\n",
      "memory usage: 525.3+ KB\n"
     ]
    }
   ],
   "source": [
    "def regex_str_col(data, columns):\n",
    "    for column in columns:\n",
    "        data[column] = data[column].str.lower() #lowercase all strings\n",
    "        data[column] = data[column].str.split('#').str[0] #remove everything after the # symbol\n",
    "        data[column] = data[column].replace('[^a-zA-Z0-9 ]', '', regex=True) #remove all none alphanumeric characters\n",
    "        data[column] = data[column].replace('  ', ' ', regex=True) #convert two spaces into 2 space\n",
    "    return data\n",
    "\n",
    "columns = ['object_name', 'address', 'object_type']\n",
    "rest = regex_str_col(data, columns)\n",
    "dups = rest[rest.sort_values(by='id').duplicated(subset=['object_name','address'], keep='first')]\n",
    "rest = rest[~rest['id'].isin(dups['id'])] # droping duplicates\n",
    "rest.info()"
   ]
  },
  {
   "cell_type": "markdown",
   "metadata": {},
   "source": [
    "<div class=\"alert alert-warning\">\n",
    "<b>Reviewer's comment:</b> Please, pay attnetion to how you drop duplicates from <code>subset=['object_name','address']</code>. There is a possibility for large shopping centers, where at the same address will be a few same-name establishments. \n",
    "</div>"
   ]
  },
  {
   "cell_type": "markdown",
   "metadata": {},
   "source": [
    "After analyzing the data I got rid of 3 none type objects, then the regular duplicated() formula didn't help me to find duplicates cause the same data rows could appear under lower and upper cases and have different spaces or symbols, so in order to identify the duplicates I did some manipulation with data by creating special formula and after find out duplicate rows I just got rid of them. The data was ready for further analysis."
   ]
  },
  {
   "cell_type": "markdown",
   "metadata": {},
   "source": [
    "##### Data analysis"
   ]
  },
  {
   "cell_type": "markdown",
   "metadata": {},
   "source": [
    "Investigate the proportions of the various types of establishments. Plot a graph."
   ]
  },
  {
   "cell_type": "code",
   "execution_count": 6,
   "metadata": {},
   "outputs": [
    {
     "data": {
      "image/png": "[encoded data removed]",
      "text/plain": [
       "<Figure size 748.8x514.8 with 1 Axes>"
      ]
     },
     "metadata": {
      "needs_background": "light"
     },
     "output_type": "display_data"
    },
    {
     "data": {
      "text/html": [
       "<div>\n",
       "<style scoped>\n",
       "    .dataframe tbody tr th:only-of-type {\n",
       "        vertical-align: middle;\n",
       "    }\n",
       "\n",
       "    .dataframe tbody tr th {\n",
       "        vertical-align: top;\n",
       "    }\n",
       "\n",
       "    .dataframe thead th {\n",
       "        text-align: right;\n",
       "    }\n",
       "</style>\n",
       "<table border=\"1\" class=\"dataframe\">\n",
       "  <thead>\n",
       "    <tr style=\"text-align: right;\">\n",
       "      <th></th>\n",
       "      <th>establishments</th>\n",
       "      <th>type_count</th>\n",
       "    </tr>\n",
       "  </thead>\n",
       "  <tbody>\n",
       "    <tr>\n",
       "      <td>0</td>\n",
       "      <td>bakery</td>\n",
       "      <td>283</td>\n",
       "    </tr>\n",
       "    <tr>\n",
       "      <td>1</td>\n",
       "      <td>bar</td>\n",
       "      <td>291</td>\n",
       "    </tr>\n",
       "    <tr>\n",
       "      <td>2</td>\n",
       "      <td>cafe</td>\n",
       "      <td>434</td>\n",
       "    </tr>\n",
       "    <tr>\n",
       "      <td>3</td>\n",
       "      <td>fast food</td>\n",
       "      <td>1058</td>\n",
       "    </tr>\n",
       "    <tr>\n",
       "      <td>4</td>\n",
       "      <td>pizza</td>\n",
       "      <td>314</td>\n",
       "    </tr>\n",
       "    <tr>\n",
       "      <td>5</td>\n",
       "      <td>restaurant</td>\n",
       "      <td>7225</td>\n",
       "    </tr>\n",
       "  </tbody>\n",
       "</table>\n",
       "</div>"
      ],
      "text/plain": [
       "  establishments  type_count\n",
       "0         bakery         283\n",
       "1            bar         291\n",
       "2           cafe         434\n",
       "3      fast food        1058\n",
       "4          pizza         314\n",
       "5     restaurant        7225"
      ]
     },
     "execution_count": 6,
     "metadata": {},
     "output_type": "execute_result"
    }
   ],
   "source": [
    "estab = rest.groupby('object_type')['id'].count().reset_index()\n",
    "estab = estab.rename(columns={'object_type': 'establishments', 'id': 'type_count'})\n",
    "with plt.style.context('seaborn-talk'):\n",
    "    plt.bar(estab['establishments'], estab['type_count'])\n",
    "    plt.title('Number of establishments types', color = 'red', size = 15)\n",
    "    plt.xlabel('various types')\n",
    "    plt.ylabel('type count')\n",
    "plt.show()\n",
    "estab"
   ]
  },
  {
   "cell_type": "markdown",
   "metadata": {},
   "source": [
    "<div class=\"alert alert-warning\">\n",
    "<b>Reviewer's comment: </b> Well done! You can remove the table and annotate your barplot. Check this link:<a>https://robertmitchellv.com/blog-bar-chart-annotations-pandas-mpl.html</a>\n",
    "</div>"
   ]
  },
  {
   "cell_type": "code",
   "execution_count": null,
   "metadata": {},
   "outputs": [],
   "source": [
    "name_rest = estab['establishments']\n",
    "values = estab['type_count']\n",
    "fig = go.Figure(data=[go.Pie(labels=name_rest, values=values)])\n",
    "fig.update_layout(title_font_color='red', title_font_size=15,                \n",
    "    title={    \n",
    "        'text': ' Proportions of establishments types',\n",
    "        'y':0.90,\n",
    "        'x':0.45,\n",
    "        'xanchor': 'center',\n",
    "        'yanchor': 'top',     \n",
    "          })\n",
    "fig.show() "
   ]
  },
  {
   "cell_type": "markdown",
   "metadata": {},
   "source": [
    "As we can see the restaurant business takes the major part of all establishments, 75% of all samples are restaurants. "
   ]
  },
  {
   "cell_type": "markdown",
   "metadata": {},
   "source": [
    "Investigate the proportions of chain and nonchain establishments. Plot a graph."
   ]
  },
  {
   "cell_type": "code",
   "execution_count": null,
   "metadata": {},
   "outputs": [],
   "source": [
    "non_chain_estab =rest[rest['chain']==False]\n",
    "chain_estab =rest[rest['chain']==True]\n",
    "chain_estab = chain_estab.groupby(['chain','object_type'])['id'].count().reset_index()\n",
    "non_chain_estab = non_chain_estab.groupby(['chain','object_type'])['id'].count().reset_index()\n",
    "chain_estab = chain_estab.rename(columns={'object_type': 'establishments', 'id': 'type_count'})\n",
    "non_chain_estab = non_chain_estab.rename(columns={'object_type': 'establishments', 'id': 'type_count'})\n",
    "fig = go.Figure()\n",
    "fig.add_trace(go.Bar(x=chain_estab['establishments'], y=chain_estab['type_count'],name='Chain'))\n",
    "fig.add_trace(go.Bar(x=non_chain_estab['establishments'], y=non_chain_estab['type_count'],name='Not chain'))\n",
    "fig.update_layout(title_font_color='red', title_font_size=15,                \n",
    "    title={    \n",
    "        'text': ' Chain proportion by establishments types',\n",
    "        'y':0.95,\n",
    "        'x':0.5,\n",
    "        'xanchor': 'center',\n",
    "        'yanchor': 'top',     \n",
    "          })\n",
    "fig.show()"
   ]
  },
  {
   "cell_type": "markdown",
   "metadata": {},
   "source": [
    "<div class=\"alert alert-danger\">\n",
    "<s><b>Reviewer's comment:</b> Sorry, but what's the idea behind this plot? You grab chain only establishments and plot their chain status.\n",
    "</div>"
   ]
  },
  {
   "cell_type": "markdown",
   "metadata": {},
   "source": [
    "You are absolutely right, so I just removed this plot."
   ]
  },
  {
   "cell_type": "markdown",
   "metadata": {},
   "source": [
    "Which type of establishment is typically a chain?"
   ]
  },
  {
   "cell_type": "markdown",
   "metadata": {},
   "source": [
    "<div class=\"alert alert-warning\">\n",
    "<b>Reviewer's comment:</b> Please, use markdown suptitles for the tasks questions.\n",
    "</div>"
   ]
  },
  {
   "cell_type": "markdown",
   "metadata": {},
   "source": [
    "Relying on this data most of bakeries are a chain also fast food and cafes."
   ]
  },
  {
   "cell_type": "markdown",
   "metadata": {},
   "source": [
    "What characterizes chains: many establishments with a small number of seats or a few establishments with a lot of seats?"
   ]
  },
  {
   "cell_type": "markdown",
   "metadata": {},
   "source": [
    "<div class=\"alert alert-warning\">\n",
    "<b>Reviewer's comment: </b> Please, pay attention, that in this case scatter plot (chain size / seats amount) would be more helpful. So, you need to group your data by chain names and find both values.\n",
    "</div>"
   ]
  },
  {
   "cell_type": "code",
   "execution_count": null,
   "metadata": {},
   "outputs": [],
   "source": [
    "fig = px.histogram(rest, x='number', title= 'Distribution of establishments by number of seats', color='chain')\n",
    "fig.update_xaxes(title_text='Number of seats')\n",
    "fig.update_yaxes(title_text='Number of establishments')\n",
    "fig.show()"
   ]
  },
  {
   "cell_type": "markdown",
   "metadata": {},
   "source": [
    "As we can see from the histogram there is much more chain establishments with a small number of seats but it doesn't characterizes chains cause the same picture we can see with non chain establishments. I think the number of seats more depends on space limits and rent costs and not if establishment is a chain or not."
   ]
  },
  {
   "cell_type": "markdown",
   "metadata": {},
   "source": [
    "Determine the average number of seats for each type of restaurant. On average, which type of restaurant has the greatest number of seats? Plot graphs."
   ]
  },
  {
   "cell_type": "code",
   "execution_count": null,
   "metadata": {},
   "outputs": [],
   "source": [
    "chain_seats_avg = rest[rest['chain']==True]\n",
    "chain_seats_avg = chain_seats_avg.groupby('object_type')['number'].mean().reset_index()\n",
    "non_chain_seats_avg = rest[rest['chain']==False]\n",
    "non_chain_seats_avg = non_chain_seats_avg.groupby('object_type')['number'].mean().reset_index()\n",
    "tot_seats_avg = rest.groupby('object_type')['number'].mean().reset_index()\n",
    "fig = go.Figure()\n",
    "fig.add_trace(go.Bar(x=chain_seats_avg['object_type'], y=chain_seats_avg['number'],name='Chain'))\n",
    "fig.add_trace(go.Bar(x=non_chain_seats_avg['object_type'], y=non_chain_seats_avg['number'],name='Not chain'))\n",
    "fig.add_trace(go.Bar(x=tot_seats_avg['object_type'], y=tot_seats_avg['number'],name='Total'))\n",
    "fig.update_layout(title_font_color='red', title_font_size=15,                \n",
    "    title={    \n",
    "        'text': 'Average number of seats',\n",
    "        'y':0.95,\n",
    "        'x':0.5,\n",
    "        'xanchor': 'center',\n",
    "        'yanchor': 'top',     \n",
    "          })\n",
    "fig.update_yaxes(title_text='Number of seats')\n",
    "fig.show()"
   ]
  },
  {
   "cell_type": "markdown",
   "metadata": {},
   "source": [
    "As we see from graph, restaurants wich are not a chain have the greatest average number of seats, on the other side establishments that we found out are typically a chain first cafes and then fast food have on average more of a seats than same types of establishments that are not a chain. Any way the average number of seats stays under the 50."
   ]
  },
  {
   "cell_type": "markdown",
   "metadata": {},
   "source": [
    "<div class=\"alert alert-success\">\n",
    "<b>Reviewer's comment:</b> 👍\n",
    "</div>"
   ]
  },
  {
   "cell_type": "markdown",
   "metadata": {},
   "source": [
    "Put the data on street names from the address column in a separate column"
   ]
  },
  {
   "cell_type": "code",
   "execution_count": null,
   "metadata": {},
   "outputs": [],
   "source": [
    "street_example=data.iloc[0]['address']\n",
    "street_example"
   ]
  },
  {
   "cell_type": "code",
   "execution_count": null,
   "metadata": {},
   "outputs": [],
   "source": [
    "usaddress.parse(street_example)"
   ]
  },
  {
   "cell_type": "code",
   "execution_count": null,
   "metadata": {},
   "outputs": [],
   "source": [
    "raw_address=usaddress.parse(street_example)\n",
    "raw_address"
   ]
  },
  {
   "cell_type": "code",
   "execution_count": null,
   "metadata": {},
   "outputs": [],
   "source": [
    "#create a new dictionary. Iterate over a list with components. So we just say: For each component in raw_address\n",
    "#save component's name as key (i[1]) and component itself as value of the dictionary (i[0])\n",
    "dict_address={}\n",
    "for i in raw_address:\n",
    "    dict_address.update({i[1]:i[0]})"
   ]
  },
  {
   "cell_type": "code",
   "execution_count": null,
   "metadata": {},
   "outputs": [],
   "source": [
    "dict_address['StreetName']+','+dict_address['AddressNumber']"
   ]
  },
  {
   "cell_type": "code",
   "execution_count": null,
   "metadata": {},
   "outputs": [],
   "source": [
    "def cleaning_check(raw):\n",
    "    raw_address=usaddress.parse(raw)\n",
    "    dict_address={}\n",
    "    for i in raw_address:\n",
    "        dict_address.update({i[1]:i[0]})\n",
    "    #this line below checks for normal case with street and number    \n",
    "    if 'StreetName' in dict_address.keys() and 'AddressNumber' in dict_address.keys():\n",
    "        clean_adress=dict_address['AddressNumber']+\",\"+str(dict_address['StreetName'])\n",
    "        return clean_adress\n",
    "    else:\n",
    "        return 'no street or number'"
   ]
  },
  {
   "cell_type": "code",
   "execution_count": null,
   "metadata": {},
   "outputs": [],
   "source": [
    "data['clean_street_check']=data.address.apply(cleaning_check)\n",
    "data[data['clean_street_check']=='no street or number']"
   ]
  },
  {
   "cell_type": "code",
   "execution_count": null,
   "metadata": {},
   "outputs": [],
   "source": [
    "usaddress.parse(data.iloc[1888]['address'])"
   ]
  },
  {
   "cell_type": "code",
   "execution_count": null,
   "metadata": {},
   "outputs": [],
   "source": [
    "def cleaning_final(raw):\n",
    "    if raw.startswith('olvera'):\n",
    "        clean_adress='olvera,Los Angeles,USA'\n",
    "    elif raw.startswith('300 s santa fe'):\n",
    "        clean_adress='300 s santa fe,Los Angeles,USA'\n",
    "    else:\n",
    "        raw_address=usaddress.parse(raw)\n",
    "        dict_address={}\n",
    "        for i in raw_address:\n",
    "            dict_address.update({i[1]:i[0]})\n",
    "        clean_adress=str(dict_address['StreetName'])\n",
    "    return clean_adress"
   ]
  },
  {
   "cell_type": "code",
   "execution_count": null,
   "metadata": {},
   "outputs": [],
   "source": [
    "data['street_name']=data.address.apply(cleaning_final)\n",
    "data.sample(10)"
   ]
  },
  {
   "cell_type": "code",
   "execution_count": null,
   "metadata": {},
   "outputs": [],
   "source": [
    "rest = rest.merge(data[['id','street_name']],how='inner', on='id')"
   ]
  },
  {
   "cell_type": "code",
   "execution_count": null,
   "metadata": {},
   "outputs": [],
   "source": [
    "rest.sample(10)"
   ]
  },
  {
   "cell_type": "markdown",
   "metadata": {},
   "source": [
    "Plot a graph of the top ten streets by number of restaurants"
   ]
  },
  {
   "cell_type": "code",
   "execution_count": null,
   "metadata": {},
   "outputs": [],
   "source": [
    "count_rest = rest[rest['object_type']=='restaurant']\n",
    "count_rest = count_rest.groupby('street_name')['object_type'].count().reset_index()\n",
    "top_ten_rest = count_rest.sort_values(by='object_type', ascending=False).head(10)\n",
    "top_ten_rest = top_ten_rest.rename(columns={'object_type': 'restaurants_count'})"
   ]
  },
  {
   "cell_type": "code",
   "execution_count": null,
   "metadata": {},
   "outputs": [],
   "source": [
    "fig = px.bar(top_ten_rest, x='street_name',  y='restaurants_count')\n",
    "fig.update_layout(title_font_color='red', title_font_size=15, xaxis_tickangle=-45,                \n",
    "    title={    \n",
    "        'text': 'Top Ten Restaurants',\n",
    "        'y':0.95,\n",
    "        'x':0.5,\n",
    "        'xanchor': 'center',\n",
    "        'yanchor': 'top',     \n",
    "          })\n",
    "fig.show()"
   ]
  },
  {
   "cell_type": "markdown",
   "metadata": {},
   "source": [
    "<div class=\"alert alert-warning\">\n",
    "<b>Reviewer's comment: </b> Good! You can improve your visualization by switching from the vertical barplot to the horizontal one. What do this streets have in common?\n",
    "</div>"
   ]
  },
  {
   "cell_type": "markdown",
   "metadata": {},
   "source": [
    "Find the number of streets that only have one restaurant."
   ]
  },
  {
   "cell_type": "code",
   "execution_count": null,
   "metadata": {},
   "outputs": [],
   "source": [
    "count_rest = count_rest.rename(columns={'object_type': 'restaurants_count'})\n",
    "only_one = count_rest[count_rest['restaurants_count']==1].count()\n",
    "only_one"
   ]
  },
  {
   "cell_type": "markdown",
   "metadata": {},
   "source": [
    "The number of streets that have only one restaurant: 4062"
   ]
  },
  {
   "cell_type": "markdown",
   "metadata": {},
   "source": [
    "For streets with a lot of restaurants, look at the distribution of the number of seats. What trends can you see?"
   ]
  },
  {
   "cell_type": "code",
   "execution_count": null,
   "metadata": {},
   "outputs": [],
   "source": [
    "trends = rest[rest['street_name'].isin(top_ten_rest['street_name'])]\n",
    "trends = trends.groupby('street_name')['number'].median().round().reset_index()\n",
    "trends = trends.rename(columns={'number': 'median_seats_number'})\n",
    "trends = trends.sort_values(by='median_seats_number', ascending=False)"
   ]
  },
  {
   "cell_type": "code",
   "execution_count": null,
   "metadata": {},
   "outputs": [],
   "source": [
    "fig = px.bar(trends, x='street_name',  y='median_seats_number')\n",
    "fig.update_layout(title_font_color='red', title_font_size=15, xaxis_tickangle=-45,                \n",
    "    title={    \n",
    "        'text': 'Top Ten Restaurants',\n",
    "        'y':0.95,\n",
    "        'x':0.5,\n",
    "        'xanchor': 'center',\n",
    "        'yanchor': 'top',     \n",
    "          })\n",
    "fig.show()"
   ]
  },
  {
   "cell_type": "code",
   "execution_count": null,
   "metadata": {},
   "outputs": [],
   "source": [
    "corr = top_ten_rest.merge(trends, how='inner', on='street_name')"
   ]
  },
  {
   "cell_type": "code",
   "execution_count": null,
   "metadata": {},
   "outputs": [],
   "source": [
    "grid =sns.jointplot(x='median_seats_number', y='restaurants_count',height=7, ratio=2, space=0.2, data=corr, kind='reg')\n",
    "grid.fig.suptitle('linear correlation')\n",
    "plt.show()"
   ]
  },
  {
   "cell_type": "markdown",
   "metadata": {},
   "source": [
    "\n",
    "<div class=\"alert alert-danger\">\n",
    "<s><b>Reviewer's comment:</b> Please, add a title to this jointplot.\n",
    "</div>"
   ]
  },
  {
   "cell_type": "markdown",
   "metadata": {},
   "source": [
    "The graph shows we've got a positive linear correlation, I used the median number of seats in order to avoid the outliers affect and as we see for streets with a lot of restaurants as more the streets have restaurants there is higher potential of more restaurant's seats."
   ]
  },
  {
   "cell_type": "markdown",
   "metadata": {},
   "source": [
    "##### Overall conclusion"
   ]
  },
  {
   "cell_type": "markdown",
   "metadata": {},
   "source": [
    "After investigating the proportions of establishments types we found out that restaurants are the most popular business, all the bakeries of the sample were chains and high proportions of fast food and cafes, I can't characterize chains by the number of their seats because establishments types that are not chains have same distribution of seats. Also we identified the top ten streets with the most number of restaurants and found out that there is positive linear correlation between the number of restaurants on streets with a lot of restaurants and the number of restaurant's seats. Bon appetite. Based on this findings I suggest to establish robocafe as a new brand with potential to became a chain, in order to serve as many clients as possible I suggest to open the cafe on one of ten top restaurant streets. Good Luck!"
   ]
  },
  {
   "cell_type": "markdown",
   "metadata": {},
   "source": [
    "<div class=\"alert alert-danger\">\n",
    "<s><b>Reviewer's comment:</b> Nice observations! Please, provide more detailed recommendations for robo-cafe.\n",
    "</div>"
   ]
  },
  {
   "cell_type": "markdown",
   "metadata": {},
   "source": [
    "##### Link of presentation of my research: <a href=\"https://drive.google.com/file/d/1eXcvoeouU-0F3eM_fI-etNFw6ZWzbfen/view?usp=sharing\">Project presentation</a>"
   ]
  },
  {
   "cell_type": "markdown",
   "metadata": {},
   "source": [
    "<div class=\"alert alert-danger\">\n",
    "<s><b>Reviewer's comment:</b> Well done, this document could be a great draft for a future presentation. Please, make a presentation based on it - with slides and other inherent attributes. You can ask your tutor about presentation templates if you need help.\n",
    "</div>\n"
   ]
  },
  {
   "cell_type": "markdown",
   "metadata": {},
   "source": [
    "Grigoriy I have been asked to: Make a presentation of your research to share with investors. You can use any tool you’d like to create it, but you must convert your presentation to PDF format for assessment. Include a link to the presentation, and that exactly what I did I really don't know  what slides you are talking about any way that part wasn't in this course, thank you for all advices and links that you provided I will definitely use them in future but for now I am done."
   ]
  },
  {
   "cell_type": "markdown",
   "metadata": {},
   "source": [
    "<div class=\"alert alert-warning\">\n",
    "<b>Reviewer's comment v2:</b> Okay, I don't see the point in forcing students to study. The question is that the analytics market is very competitive, so this way you give your competitors a chance.\n",
    "</div>"
   ]
  },
  {
   "cell_type": "code",
   "execution_count": null,
   "metadata": {},
   "outputs": [],
   "source": []
  }
 ],
 "metadata": {
  "ExecuteTimeLog": [
   {
    "duration": 2320,
    "start_time": "2021-08-17T18:01:39.164Z"
   },
   {
    "duration": 6759,
    "start_time": "2021-08-17T18:01:41.488Z"
   },
   {
    "duration": 15,
    "start_time": "2021-08-17T18:01:48.250Z"
   },
   {
    "duration": 138,
    "start_time": "2021-08-17T18:01:48.268Z"
   },
   {
    "duration": 133,
    "start_time": "2021-08-17T18:01:48.409Z"
   },
   {
    "duration": 355,
    "start_time": "2021-08-17T18:01:48.545Z"
   },
   {
    "duration": 1889,
    "start_time": "2021-08-17T18:02:23.104Z"
   },
   {
    "duration": 3171,
    "start_time": "2021-08-17T18:02:24.995Z"
   },
   {
    "duration": 10,
    "start_time": "2021-08-17T18:02:28.170Z"
   },
   {
    "duration": 122,
    "start_time": "2021-08-17T18:02:28.183Z"
   },
   {
    "duration": 127,
    "start_time": "2021-08-17T18:02:28.307Z"
   },
   {
    "duration": 372,
    "start_time": "2021-08-17T18:02:28.437Z"
   }
  ],
  "kernelspec": {
   "display_name": "Python 3",
   "language": "python",
   "name": "python3"
  },
  "language_info": {
   "codemirror_mode": {
    "name": "ipython",
    "version": 3
   },
   "file_extension": ".py",
   "mimetype": "text/x-python",
   "name": "python",
   "nbconvert_exporter": "python",
   "pygments_lexer": "ipython3",
   "version": "3.7.8"
  },
  "toc": {
   "base_numbering": 1,
   "nav_menu": {},
   "number_sections": true,
   "sideBar": true,
   "skip_h1_title": true,
   "title_cell": "Table of Contents",
   "title_sidebar": "Contents",
   "toc_cell": false,
   "toc_position": {},
   "toc_section_display": true,
   "toc_window_display": false
  }
 },
 "nbformat": 4,
 "nbformat_minor": 4
}
